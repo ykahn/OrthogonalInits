{
  "nbformat": 4,
  "nbformat_minor": 0,
  "metadata": {
    "colab": {
      "provenance": [],
      "machine_shape": "hm",
      "gpuType": "T4",
      "authorship_tag": "ABX9TyOsR46E+o89rjQXelFiBRYG"
    },
    "kernelspec": {
      "name": "python3",
      "display_name": "Python 3"
    },
    "language_info": {
      "name": "python"
    },
    "accelerator": "GPU"
  },
  "cells": [
    {
      "cell_type": "markdown",
      "source": [
        "Sampling code to reproduce Fig. 3 of \"Feature Learning and Generalization in Deep Networks with Orthogonal Weights\" by Day, Kahn, and Roberts. This code runs in about 5 minutes on the T4 high-RAM environment on Google Colab"
      ],
      "metadata": {
        "id": "LwcCk7Ka53pL"
      }
    },
    {
      "cell_type": "code",
      "execution_count": 1,
      "metadata": {
        "colab": {
          "base_uri": "https://localhost:8080/"
        },
        "id": "rLDrY4G-uZ8U",
        "outputId": "1363b347-1e23-4efe-92f5-6996acd0386e"
      },
      "outputs": [
        {
          "output_type": "stream",
          "name": "stdout",
          "text": [
            "Your runtime has 54.8 gigabytes of available RAM\n",
            "\n",
            "You are using a high-RAM runtime!\n"
          ]
        }
      ],
      "source": [
        "from psutil import virtual_memory\n",
        "ram_gb = virtual_memory().total / 1e9\n",
        "print('Your runtime has {:.1f} gigabytes of available RAM\\n'.format(ram_gb))\n",
        "\n",
        "if ram_gb < 20:\n",
        "  print('Not using a high-RAM runtime')\n",
        "else:\n",
        "  print('You are using a high-RAM runtime!')"
      ]
    },
    {
      "cell_type": "code",
      "source": [
        "import numpy as np\n",
        "import torch\n",
        "import torch.nn as nn\n",
        "import matplotlib.pyplot as plt\n",
        "from itertools import combinations\n",
        "from scipy.stats import ortho_group\n",
        "import gc\n",
        "import pickle"
      ],
      "metadata": {
        "id": "sC55rcH4ulSA"
      },
      "execution_count": 2,
      "outputs": []
    },
    {
      "cell_type": "markdown",
      "source": [
        "# Generic architecture used to construct the ensemble"
      ],
      "metadata": {
        "id": "v627PfsJ4qNC"
      }
    },
    {
      "cell_type": "code",
      "source": [
        "class MLP(nn.Module):\n",
        "    '''\n",
        "    Simple MLP with the number of layers defined programmatically.\n",
        "    '''\n",
        "    def __init__(self, activation, d=784, n=100, L=50, nL=10, cb=0.0, cw=1.0, weightinit='Gaussian'):\n",
        "        '''\n",
        "        activation (function) is any activation function\n",
        "        d (int) is the input dimension (i.e. size of the image)\n",
        "        n (int) is the width of the hidden layers\n",
        "        L (int) is the number of hidden layers\n",
        "        nL (int) is the width of the final layer (i.e. number of classes)\n",
        "        cb (float) is the variance of the bias parameters\n",
        "        cw (float) is the variance of the weight parameters\n",
        "\n",
        "        '''\n",
        "        super(MLP, self).__init__()\n",
        "\n",
        "        self.activation = activation\n",
        "        self.cb = cb\n",
        "        self.cw = cw\n",
        "        self.d = d\n",
        "        self.n = n\n",
        "        self.L = L\n",
        "        self.nL = nL\n",
        "        self.weightinit = weightinit\n",
        "\n",
        "        assert self.L > 0 # at least 1 hidden layer\n",
        "\n",
        "\n",
        "        # create layers\n",
        "        self.fcs = list()\n",
        "\n",
        "        # first layer is special\n",
        "        fc0 = nn.Linear(self.d, self.n)\n",
        "        self.fcs.append(fc0)\n",
        "\n",
        "        # middle layers, notice the L-1\n",
        "        for fci in range(L-1):\n",
        "            fci = nn.Linear(self.n, self.n)\n",
        "            self.fcs.append(fci)\n",
        "\n",
        "        # last layer is special\n",
        "        fcL = nn.Linear(self.n, self.nL)\n",
        "        self.fcs.append(fcL)\n",
        "\n",
        "        # register and initialize\n",
        "        for i, fc in enumerate(self.fcs):\n",
        "            if self.weightinit == 'mixed0':\n",
        "                self.weightinit = 'Gaussian' #initializes first layer to Gaussian\n",
        "                self._initialize_fc(fc)\n",
        "                self.add_module('fc%d' % i, fc)\n",
        "                self.weightinit = 'orthogonal' #changes to orthogonal for remaining layers\n",
        "            else:\n",
        "                self._initialize_fc(fc)\n",
        "                self.add_module('fc%d' % i, fc)\n",
        "\n",
        "    def forward(self, x):\n",
        "        zs = list()\n",
        "        a = x\n",
        "        zs.append(x)\n",
        "        for i in range(len(self.fcs)-1):\n",
        "            fc = self.fcs[i]\n",
        "            z = fc(a)\n",
        "            zs.append(z)\n",
        "            a = self.activation(z)\n",
        "        z = self.fcs[self.L](a) # last one doesn't have activation\n",
        "        zs.append(z)\n",
        "        return z, zs\n",
        "\n",
        "    def _initialize_fc(self, fc):\n",
        "        '''\n",
        "        Initializes `fc` layer with cb and cw.\n",
        "        '''\n",
        "        with torch.no_grad():\n",
        "            bs = fc.bias.size()\n",
        "            b = torch.randn(bs)*(self.cb)**(1/2)\n",
        "            if self.weightinit == 'orthogonal': #NOTE!!! This only works for rectangular networks for the time being with all layers having equal width\n",
        "                ws = fc.weight.size()[0]\n",
        "                w = torch.tensor(np.sqrt(self.cw)*ortho_group.rvs(ws),dtype=torch.float32)\n",
        "            elif self.weightinit == 'Gaussian':\n",
        "                ws = fc.weight.size()\n",
        "                w = torch.randn(ws)*(self.cw/ws[1])**(1/2)\n",
        "            else:\n",
        "                raise Exception(\"Unsupported choice of inits\")\n",
        "            fc.bias = torch.nn.Parameter(b)\n",
        "            fc.weight = torch.nn.Parameter(w)\n",
        "\n",
        "def dact(act,x):\n",
        "    if act == 'ReLU':\n",
        "        return torch.heaviside(x,values=torch.tensor([0.]))\n",
        "    elif act == 'tanh':\n",
        "        return torch.tensor(np.cosh(x.detach().numpy())**-2)\n",
        "    elif act == 'linear':\n",
        "        return torch.ones(x.shape)\n",
        "    else:\n",
        "        raise Exception(\"Unsupported choice of activation\")\n",
        "\n",
        "def ddact(act,x):\n",
        "    if act == 'ReLU':\n",
        "        return torch.zeros(x.shape) #strictly speaking there is a delta function at zero, but all second derivative correlators end up vanishing for ReLU\n",
        "    elif act == 'tanh':\n",
        "        return torch.tensor(-2*(np.cosh(x.detach().numpy())**-2)*np.tanh(x.detach().numpy()))\n",
        "    elif act == 'linear':\n",
        "        return torch.zeros(x.shape)\n",
        "    else:\n",
        "        raise Exception(\"Unsupported choice of activation\")\n",
        "\n",
        "def d3act(act,x): #only works for smooth activation functions\n",
        "    if act == 'tanh':\n",
        "        return torch.tensor(-2*(np.cosh(x.detach().numpy())**-4) + 4*(np.cosh(x.detach().numpy())**-2)*(np.tanh(x.detach().numpy())**2))\n",
        "    elif act == 'linear':\n",
        "        return torch.zeros(x.shape)\n",
        "    else:\n",
        "        raise Exception(\"Unsupported choice of activation\")"
      ],
      "metadata": {
        "id": "5rFPSPot4l8_"
      },
      "execution_count": 3,
      "outputs": []
    },
    {
      "cell_type": "markdown",
      "source": [
        "# Functions to measure various correlators\n",
        "\n",
        "note that R/S/T/U are measured online since they only involve ddNTK mean\n",
        "\n",
        "for multi-input, right now only looking at two-input alpha-alpha-beta-beta structure and single-input NTK\n",
        "\n",
        "layers are 1-indexed: zeroth layer is just a placeholder"
      ],
      "metadata": {
        "id": "GlENF3U74zRV"
      }
    },
    {
      "cell_type": "code",
      "source": [
        "def MeasureK(zs,zs2=None):\n",
        "    zsnp=zs.detach().numpy()\n",
        "    nl = zs.shape[2]\n",
        "    if zs2 is None:\n",
        "        Kmeas = np.mean(np.mean(zsnp**2,axis=2),axis=0)\n",
        "    else:\n",
        "        zs2np=zs2.detach().numpy()\n",
        "        Kmeas = np.mean((1/nl)*np.einsum('ijk,ijk->ij',zsnp,zs2np),axis=0)\n",
        "    Kmeas[0] = 0 #zeroth layer stuff is just placeholder for everything else\n",
        "    return Kmeas\n",
        "\n",
        "def MeasureV(zs,zs2=None):\n",
        "    zsnp=zs.detach().numpy()\n",
        "    nl = zs.shape[2]\n",
        "    if zs2 is None:\n",
        "        K = MeasureK(zs)\n",
        "        Vmeas = nl/(nl*(nl-1)/2)*sum(np.mean((zsnp[:,:,i[0]]**2)*(zsnp[:,:,i[1]]**2),axis=0) - K**2 for i in combinations(range(nl),2))\n",
        "    else:\n",
        "        zs2np=zs2.detach().numpy()\n",
        "        K1 = MeasureK(zs)\n",
        "        K2 = MeasureK(zs2)\n",
        "        Vmeas = nl/(nl*(nl-1)/2)*sum(np.mean((zsnp[:,:,i[0]]**2)*(zs2np[:,:,i[1]]**2),axis=0) - K1*K2 for i in combinations(range(nl),2))\n",
        "    Vmeas[0] = 0 #zeroth layer stuff is just placeholder for everything else\n",
        "    return Vmeas\n",
        "\n",
        "def MeasureTheta(Hhats):\n",
        "    nl = Hhats.shape[2]\n",
        "    return (1/nl)*np.mean(np.trace(Hhats.detach().numpy(),axis1=2,axis2=3),axis=0)\n",
        "\n",
        "def MeasureA(Hhats,Hhats2=None):\n",
        "    DeltaHhats= Hhats.detach().numpy() - np.mean(Hhats.detach().numpy(), axis=0)\n",
        "    nl = Hhats.shape[2]\n",
        "    if Hhats2 is None:\n",
        "        Ameas = nl/(nl*(nl-1)/2)*sum(np.mean(DeltaHhats[:,:,i[0],i[0]]*DeltaHhats[:,:,i[1],i[1]],axis=0) for i in combinations(range(nl),2))\n",
        "    else:\n",
        "        DeltaHhats2= Hhats2.detach().numpy() - np.mean(Hhats2.detach().numpy(), axis=0)\n",
        "        Ameas = nl/(nl*(nl-1)/2)*sum(np.mean(DeltaHhats[:,:,i[0],i[0]]*DeltaHhats2[:,:,i[1],i[1]],axis=0) for i in combinations(range(nl),2))\n",
        "    return Ameas\n",
        "\n",
        "def MeasureB(Hhats, Hhats2=None):\n",
        "    DeltaHhats= Hhats.detach().numpy() - np.mean(Hhats.detach().numpy(), axis=0)\n",
        "    nl = Hhats.shape[2]\n",
        "    if Hhats2 is None:\n",
        "        Bmeas1 = nl/(nl*(nl-1)/2)*sum(np.mean(DeltaHhats[:,:,i[0],i[1]]*DeltaHhats[:,:,i[0],i[1]],axis=0) for i in combinations(range(nl),2))\n",
        "        Bmeas2 = nl/(nl*(nl-1)/2)*sum(np.mean(DeltaHhats[:,:,i[0],i[1]]*DeltaHhats[:,:,i[1],i[0]],axis=0) for i in combinations(range(nl),2))\n",
        "        #these should be equal, can return both values to check\n",
        "    else:\n",
        "        DeltaHhats2= Hhats2.detach().numpy() - np.mean(Hhats2.detach().numpy(), axis=0)\n",
        "        Bmeas1 = nl/(nl*(nl-1)/2)*sum(np.mean(DeltaHhats[:,:,i[0],i[1]]*DeltaHhats2[:,:,i[0],i[1]],axis=0) for i in combinations(range(nl),2))\n",
        "        Bmeas2 = nl/(nl*(nl-1)/2)*sum(np.mean(DeltaHhats[:,:,i[0],i[1]]*DeltaHhats2[:,:,i[1],i[0]],axis=0) for i in combinations(range(nl),2))\n",
        "    return Bmeas1\n",
        "\n",
        "def MeasureD(zs,Hhats):\n",
        "    DeltaHhats= Hhats.detach().numpy() - np.mean(Hhats.detach().numpy(), axis=0)\n",
        "    zsnp=zs.detach().numpy()\n",
        "    nl = Hhats.shape[2]\n",
        "    Dmeas=nl/(nl*(nl-1)/2)*sum(np.mean((zsnp[:,:,i[0]]**2)*DeltaHhats[:,:,i[1],i[1]],axis=0) for i in combinations(range(nl),2))\n",
        "    return Dmeas\n",
        "\n",
        "def MeasureF(zs,Hhats):\n",
        "    DeltaHhats= Hhats.detach().numpy() - np.mean(Hhats.detach().numpy(), axis=0)\n",
        "    zsnp=zs.detach().numpy()\n",
        "    nl = Hhats.shape[2]\n",
        "    F1meas=nl/(nl*(nl-1)/2)*sum(np.mean(zsnp[:,:,i[0]]*zsnp[:,:,i[1]]*DeltaHhats[:,:,i[0],i[1]],axis=0) for i in combinations(range(nl),2))\n",
        "    F2meas=nl/(nl*(nl-1)/2)*sum(np.mean(zsnp[:,:,i[0]]*zsnp[:,:,i[1]]*DeltaHhats[:,:,i[1],i[0]],axis=0) for i in combinations(range(nl),2))\n",
        "    #these should be equal, can return both values to check\n",
        "    return F1meas\n",
        "\n",
        "def MeasureP(zs,dHhats):\n",
        "    zsnp=zs.detach().numpy()\n",
        "    nl = zsnp.shape[2]\n",
        "    dHhatsnp = dHhats.detach().numpy()\n",
        "    Pmeas = nl/(nl*(nl-1)/2)*sum(np.mean(dHhatsnp[:,:,i[0],i[1],i[1]]*zsnp[:,:,i[0]],axis=0) for i in combinations(range(nl),2))\n",
        "    return Pmeas\n",
        "\n",
        "def MeasureQ(zs,dHhats):\n",
        "    zsnp=zs.detach().numpy()\n",
        "    nl = zsnp.shape[2]\n",
        "    dHhatsnp = dHhats.detach().numpy()\n",
        "    Q1meas = nl/(nl*(nl-1)/2)*sum(np.mean(dHhatsnp[:,:,i[0],i[0],i[1]]*zsnp[:,:,i[1]],axis=0) for i in combinations(range(nl),2))\n",
        "    Q2meas = nl/(nl*(nl-1)/2)*sum(np.mean(dHhatsnp[:,:,i[0],i[1],i[0]]*zsnp[:,:,i[1]],axis=0) for i in combinations(range(nl),2))\n",
        "    #these should be equal, can return both values to check\n",
        "    return Q1meas"
      ],
      "metadata": {
        "id": "8dOvw77j4zlC"
      },
      "execution_count": 4,
      "outputs": []
    },
    {
      "cell_type": "markdown",
      "source": [
        "# Function to collect the tensors and correlators required to perform the measurement"
      ],
      "metadata": {
        "id": "e_btDETw441Z"
      }
    },
    {
      "cell_type": "code",
      "source": [
        "def CollectAllCorrelators(data,data2=None,NSample=1000,depth=10,width=30,inputwidth=30,init='Gaussian',actkey='tanh',\n",
        "                          lambdabtilde=1.0,lambdaWtilde=1.0,measurePQ=False,measureRSTU=False):\n",
        "\n",
        "    #set critical initialization\n",
        "    Cb = 0 #all activations have Cb = 0 for criticality\n",
        "    if actkey == 'tanh':\n",
        "        CW = 1.0 # critical init\n",
        "        act = torch.tanh\n",
        "    elif actkey == 'linear':\n",
        "        CW = 1.0 # critical init\n",
        "        act = lambda x: x\n",
        "    elif actkey == 'ReLU':\n",
        "        CW = 2.0 # critical init\n",
        "        act = nn.ReLU()\n",
        "    else:\n",
        "        raise Exception(\"Unsupported choice of activation\")\n",
        "\n",
        "    #define depth-dependent learning rates for proper definition of NTK\n",
        "    if actkey == 'tanh':  #bias learning rate is an array that takes into account depth rescaling as appropriate\n",
        "        lambdab_arr = lambdabtilde*np.array([1/max(l,1) for l in range(0,depth)])\n",
        "    else:\n",
        "        lambdab_arr = lambdabtilde*np.ones(depth)\n",
        "\n",
        "    #initialize all arrays for measurement\n",
        "    zs=torch.zeros((NSample,depth, width)) #NOTE! zeroth entry is a DUMMY ENTRY ONLY because input width might be different\n",
        "    Hhats=torch.zeros((NSample,depth,width,width)) #NOTE! zeroth entry is a DUMMY ENTRY ONLY because input width might be different\n",
        "    if data2 is not None:\n",
        "        zs2 = torch.zeros((NSample,depth, width))\n",
        "        Hhats2= torch.zeros((NSample,depth,width,width))\n",
        "    if measurePQ:\n",
        "        dHhats = torch.zeros((NSample,depth,width,width,width)) #this is the limiting factor for memory!\n",
        "    if measureRSTU:\n",
        "        Rmeas = np.zeros(depth)\n",
        "        Smeas = np.zeros(depth)\n",
        "        Tmeas = np.zeros(depth)\n",
        "        Umeas = np.zeros(depth)\n",
        "\n",
        "    #auxiliary stuff we don't need to store to preserve RAM\n",
        "    sigmas=torch.zeros((depth,width))\n",
        "    sigmaprs=torch.zeros((depth,width))\n",
        "    if data2 is not None:\n",
        "        sigmas2 = torch.zeros((depth,width))\n",
        "        sigmaprs2 = torch.zeros((depth,width))\n",
        "    sigmapprs=torch.zeros((depth,width))\n",
        "    sigma3prs=torch.zeros((depth,width))\n",
        "\n",
        "    #loop over networks in ensemble\n",
        "    for sample in range(NSample):\n",
        "        if sample % 5 ==0: print('Sample ',sample,' of ',NSample)\n",
        "        mynet=MLP(activation=act,d=data.shape[0],n=width,nL=width,L=depth,cw=CW,weightinit=init)\n",
        "\n",
        "        #initialize dictionary to call network layers\n",
        "        layerdict_ = {}\n",
        "        for i, fc in enumerate(mynet.fcs):\n",
        "            layerdict_['layer%s' % i]  = fc #NOTE INDEXING! layer fcl contains W^(l+1)\n",
        "            _, zlist = mynet.forward(data)\n",
        "        if data2 is not None:\n",
        "            _, zlist2 = mynet.forward(data2)\n",
        "\n",
        "        #get preactivations and activations/derivatives\n",
        "        for l in range(1,depth): #leave everything equal to zero at layer zero\n",
        "            zs[sample,l] = zlist[l]\n",
        "            sigmas[l] = act(zs[sample,l])\n",
        "            sigmaprs[l] = dact(actkey,zs[sample,l])\n",
        "            if data2 is not None:\n",
        "                zs2[sample,l] = zlist2[l]\n",
        "                sigmas2[l] = act(zs2[sample,l])\n",
        "                sigmaprs2[l] = dact(actkey,zs2[sample,l])\n",
        "            if measurePQ:\n",
        "                sigmapprs[l] = ddact(actkey,zs[sample,l])\n",
        "            if measureRSTU:\n",
        "                sigma3prs[l] = d3act(actkey,zs[sample,l])\n",
        "\n",
        "        #initial conditions for H recursion at layer 1 (8.23)\n",
        "        Hhats[sample,1] = torch.eye(width)*(lambdab_arr[1] + (lambdaWtilde/inputwidth)*torch.sum(data**2)) #note that normalization is by inputwidth\n",
        "        if data2 is not None:\n",
        "            Hhats2[sample,1] = torch.eye(width)*(lambdab_arr[1] + (lambdaWtilde/inputwidth)*torch.sum(data2**2))\n",
        "        #note: initial conditions for dH, ddH at layer 1 are automatically satisfied by initialization of dHhat and ddH_I, ddH_II arrays\n",
        "\n",
        "        if measureRSTU:\n",
        "            ddH_I = torch.zeros(width,width,width,width) #can compute ddNTK means on the fly so don't need NSample dimension\n",
        "            ddH_II = torch.zeros(width,width,width,width)\n",
        "\n",
        "        #compute H forward equation (8.12) and dH forward equation (11.24)\n",
        "        for l in range(1,depth-1):\n",
        "            Ws = layerdict_['layer%s' % l].weight\n",
        "            Hhats[sample,l+1] = torch.eye(width)*(lambdab_arr[l+1] + (lambdaWtilde/width)*torch.sum(sigmas[l]**2)) + torch.einsum('aj,bk,j,k,jk->ab',Ws,Ws,sigmaprs[l],sigmaprs[l],Hhats[sample,l])\n",
        "            if data2 is not None:\n",
        "                Hhats2[sample,l+1] = torch.eye(width)*(lambdab_arr[l+1] + (lambdaWtilde/width)*torch.sum(sigmas2[l]**2)) + torch.einsum('aj,bk,j,k,jk->ab',Ws,Ws,sigmaprs2[l],sigmaprs2[l],Hhats2[sample,l])\n",
        "\n",
        "            if measurePQ:\n",
        "            #index labeling for einsum: (i0 i1 i2) = (abc), (k0 k1 k2) = (klm)\n",
        "                dHhats[sample,l+1] = (lambdaWtilde/width)*(torch.einsum('ab,cm,k,k,m,km->abc',torch.eye(width),Ws,sigmaprs[l],sigmas[l],sigmaprs[l],Hhats[sample,l]) +\\\n",
        "                                    torch.einsum('ac,bl,k,l,k,kl->abc',torch.eye(width),Ws,sigmaprs[l],sigmas[l],sigmaprs[l],Hhats[sample,l])) +\\\n",
        "                                    torch.einsum('ak,bl,cm,k,l,m,klm->abc',Ws,Ws,Ws,sigmaprs[l],sigmaprs[l],sigmaprs[l],dHhats[sample,l]) +\\\n",
        "                                    torch.einsum('ak,bl,cm,k,l,m,kl,km->abc',Ws,Ws,Ws,sigmapprs[l],sigmaprs[l],sigmaprs[l],Hhats[sample,l],Hhats[sample,l])\n",
        "\n",
        "\n",
        "            if measureRSTU:\n",
        "            #still inside layer loop\n",
        "            # width*E[ddH_I] with 2 pairs of indices equal is R\n",
        "            #index labeling for einsum: (i0 i1 i2 i3) = (abcd), (j0 j1 j2 j3) = (jklm), in first 3 terms use delta to eliminate a\n",
        "\n",
        "                deltaterm = (lambdaWtilde/width)*(torch.einsum('ab,cl,dm,k,l,m,k,kl,km->abcd',torch.eye(width),Ws,Ws,sigmas[l],sigmaprs[l],sigmaprs[l],sigmapprs[l],Hhats[sample,l],Hhats[sample,l]) +\\\n",
        "                            torch.einsum('ab,cl,dm,k,l,m,k,klm->abcd',torch.eye(width),Ws,Ws,sigmas[l],sigmaprs[l],sigmaprs[l],sigmaprs[l],dHhats[sample,l]) +\\\n",
        "                            torch.einsum('ac,dm,bk,l,m,k,l,lm,lk->abcd',torch.eye(width),Ws,Ws,sigmas[l],sigmaprs[l],sigmaprs[l],sigmapprs[l],Hhats[sample,l],Hhats[sample,l]) +\\\n",
        "                            torch.einsum('ac,dm,bk,l,m,k,l,lmk->abcd',torch.eye(width),Ws,Ws,sigmas[l],sigmaprs[l],sigmaprs[l],sigmaprs[l],dHhats[sample,l]) +\\\n",
        "                            torch.einsum('ad,bk,cl,m,k,l,m,mk,ml->abcd',torch.eye(width),Ws,Ws,sigmas[l],sigmaprs[l],sigmaprs[l],sigmapprs[l],Hhats[sample,l],Hhats[sample,l]) +\\\n",
        "                            torch.einsum('ad,bk,cl,m,k,l,m,mkl->abcd',torch.eye(width),Ws,Ws,sigmas[l],sigmaprs[l],sigmaprs[l],sigmaprs[l],dHhats[sample,l]))\n",
        "\n",
        "                ddHterm = torch.einsum('aj,bk,cl,dm,k,l,m,j,jklm->abcd',Ws,Ws,Ws,Ws,sigmaprs[l],sigmaprs[l],sigmaprs[l],sigmaprs[l],ddH_I) +\\\n",
        "                  torch.einsum('aj,bk,cl,dm,k,l,m,j,jkl,jm->abcd',Ws,Ws,Ws,Ws,sigmaprs[l],sigmaprs[l],sigmaprs[l],sigmapprs[l],dHhats[sample,l],Hhats[sample,l]) +\\\n",
        "                  torch.einsum('aj,bk,cl,dm,k,l,m,j,jlm,jk->abcd',Ws,Ws,Ws,Ws,sigmaprs[l],sigmaprs[l],sigmaprs[l],sigmapprs[l],dHhats[sample,l],Hhats[sample,l]) +\\\n",
        "                  torch.einsum('aj,bk,cl,dm,k,l,m,j,jmk,jl->abcd',Ws,Ws,Ws,Ws,sigmaprs[l],sigmaprs[l],sigmaprs[l],sigmapprs[l],dHhats[sample,l],Hhats[sample,l]) +\\\n",
        "                  torch.einsum('aj,bk,cl,dm,k,l,m,j,jk,jl,jm->abcd',Ws,Ws,Ws,Ws,sigmaprs[l],sigmaprs[l],sigmaprs[l],sigma3prs[l],Hhats[sample,l],Hhats[sample,l],Hhats[sample,l])\n",
        "                ddH_I = deltaterm + ddHterm #this is now ddH_I at layer l+1\n",
        "\n",
        "                #now compute expectations\n",
        "                Rmeas[l+1] += (1/NSample)*width/(width*(width-1)/2)*sum(ddH_I[i[0],i[0],i[1],i[1]] for i in combinations(range(width),2)).detach().numpy()\n",
        "                #Rmeas2[l+1] += (1/NSample)*width/(width*(width-1)/2)*sum(ddH_I[i[0],i[1],i[0],i[1]] for i in combinations(range(width),2)).detach().numpy() #only need these to check\n",
        "                #Rmeas3[l+1] += (1/NSample)*width/(width*(width-1)/2)*sum(ddH_I[i[0],i[1],i[1],i[0]] for i in combinations(range(width),2)).detach().numpy()  #only need these to check\n",
        "\n",
        "                #index labeling for einsum: (i1 i2 i3 i4) = (abcd), (j1 j2 j3 j4) = (jklm)\n",
        "                ddH_II = ((lambdaWtilde/width)**2)*torch.einsum('ac,bd,j,k,j,k,jk->abcd',torch.eye(width),torch.eye(width),sigmaprs[l],sigmaprs[l],sigmas[l],sigmas[l],Hhats[sample,l]) +\\\n",
        "                        (lambdaWtilde/width)*(torch.einsum('ab,jk,cl,dm,j,k,l,m,jl,km->abcd',torch.eye(width),torch.eye(width),Ws,Ws,sigmaprs[l],sigmaprs[l],sigmaprs[l],sigmaprs[l],Hhats[sample,l],Hhats[sample,l]) +\\\n",
        "                        torch.einsum('ac,jl,bk,dm,l,m,j,k,kj,km->abcd',torch.eye(width),torch.eye(width),Ws,Ws,sigmas[l],sigmaprs[l],sigmaprs[l],sigmapprs[l],Hhats[sample,l],Hhats[sample,l]) +\\\n",
        "                        torch.einsum('ac,jl,bk,dm,l,m,j,k,kjm->abcd',torch.eye(width),torch.eye(width),Ws,Ws,sigmas[l],sigmaprs[l],sigmaprs[l],sigmaprs[l],dHhats[sample,l]) +\\\n",
        "                        torch.einsum('bd,km,aj,cl,m,l,k,j,jk,jl->abcd',torch.eye(width),torch.eye(width),Ws,Ws,sigmas[l],sigmaprs[l],sigmaprs[l],sigmapprs[l],Hhats[sample,l],Hhats[sample,l]) +\\\n",
        "                        torch.einsum('bd,km,aj,cl,m,l,k,j,jkl->abcd',torch.eye(width),torch.eye(width),Ws,Ws,sigmas[l],sigmaprs[l],sigmaprs[l],sigmaprs[l],dHhats[sample,l])) +\\\n",
        "                        torch.einsum('aj,bk,cl,dm,l,m,j,k,jklm->abcd',Ws,Ws,Ws,Ws,sigmaprs[l],sigmaprs[l],sigmaprs[l],sigmaprs[l],ddH_II) +\\\n",
        "                        torch.einsum('aj,bk,cl,dm,l,m,j,k,jk,jl,km->abcd',Ws,Ws,Ws,Ws,sigmaprs[l],sigmaprs[l],sigmapprs[l],sigmapprs[l],Hhats[sample,l],Hhats[sample,l],Hhats[sample,l]) +\\\n",
        "                        torch.einsum('aj,bk,cl,dm,l,m,j,k,km,jkl->abcd',Ws,Ws,Ws,Ws,sigmaprs[l],sigmaprs[l],sigmaprs[l],sigmapprs[l],Hhats[sample,l],dHhats[sample,l]) +\\\n",
        "                        torch.einsum('aj,bk,cl,dm,l,m,k,j,jl,kjm->abcd',Ws,Ws,Ws,Ws,sigmaprs[l],sigmaprs[l],sigmaprs[l],sigmapprs[l],Hhats[sample,l],dHhats[sample,l])\n",
        "                #now compute expectations\n",
        "                Smeas[l+1] += (1/NSample)*width/(width*(width-1)/2)*sum(ddH_II[i[0],i[0],i[1],i[1]] for i in combinations(range(width),2)).detach().numpy()\n",
        "                Tmeas[l+1] += (1/NSample)*width/(width*(width-1)/2)*sum(ddH_II[i[0],i[1],i[0],i[1]] for i in combinations(range(width),2)).detach().numpy()\n",
        "                Umeas[l+1] += (1/NSample)*width/(width*(width-1)/2)*sum(ddH_II[i[0],i[1],i[1],i[0]] for i in combinations(range(width),2)).detach().numpy()\n",
        "\n",
        "        #  garbage collection for high-RAM measurement of R,S,T,U\n",
        "        if measureRSTU:\n",
        "            del deltaterm\n",
        "            del ddHterm\n",
        "            del ddH_I\n",
        "            del ddH_II\n",
        "            gc.collect()\n",
        "\n",
        "    #### end of layer loop\n",
        "\n",
        "    if measurePQ:\n",
        "        if measureRSTU:\n",
        "            RSTUDict={'R': Rmeas, 'S': Smeas, 'T': Tmeas, 'U': Umeas}\n",
        "            return zs, Hhats, dHhats, RSTUDict\n",
        "        else:\n",
        "            return zs, Hhats, dHhats\n",
        "    if data2 is not None:\n",
        "        return zs, zs2, Hhats, Hhats2\n",
        "    else:\n",
        "        return zs, Hhats"
      ],
      "metadata": {
        "id": "A2yhgWzr45Qo"
      },
      "execution_count": 5,
      "outputs": []
    },
    {
      "cell_type": "markdown",
      "source": [
        "# Create ensemble and measure (reproducing Fig. 3)"
      ],
      "metadata": {
        "id": "p9SbUO3348TC"
      }
    },
    {
      "cell_type": "code",
      "source": [
        "#network architecture\n",
        "depth = 31\n",
        "width = 20\n",
        "inputwidth = width\n",
        "lambdabtilde = 1.0\n",
        "lambdaWtilde = 1.0\n",
        "\n",
        "measurePQ = True\n",
        "measureRSTU = True\n",
        "\n",
        "NSample = 100\n",
        "data = torch.Tensor(np.random.rand(inputwidth)) #random data\n",
        "print(data)"
      ],
      "metadata": {
        "colab": {
          "base_uri": "https://localhost:8080/"
        },
        "id": "wT4Az2ko48mO",
        "outputId": "8c172a82-25f6-4aee-be0f-16667580043f"
      },
      "execution_count": 6,
      "outputs": [
        {
          "output_type": "stream",
          "name": "stdout",
          "text": [
            "tensor([0.2560, 0.1813, 0.8431, 0.2161, 0.7821, 0.7047, 0.3811, 0.9152, 0.7354,\n",
            "        0.6078, 0.5328, 0.9052, 0.0292, 0.2213, 0.3445, 0.0657, 0.6293, 0.5366,\n",
            "        0.3185, 0.6052])\n"
          ]
        }
      ]
    },
    {
      "cell_type": "code",
      "source": [
        "init = 'Gaussian'\n",
        "actkey = 'tanh'\n",
        "zsGaus, HhatsGaus, dHhatsGaus, RSTUGaus = CollectAllCorrelators(data,NSample=NSample,depth=depth,width=width,inputwidth=inputwidth,init=init,actkey=actkey,lambdabtilde=lambdabtilde,\n",
        "    lambdaWtilde=lambdaWtilde,measurePQ=measurePQ,measureRSTU=measureRSTU)"
      ],
      "metadata": {
        "colab": {
          "base_uri": "https://localhost:8080/"
        },
        "id": "4Nyfhmo45Ax1",
        "outputId": "87eb3460-f3b1-4a40-d4fe-8a3b5c1157ef"
      },
      "execution_count": 7,
      "outputs": [
        {
          "output_type": "stream",
          "name": "stdout",
          "text": [
            "Sample  0  of  100\n",
            "Sample  5  of  100\n",
            "Sample  10  of  100\n",
            "Sample  15  of  100\n",
            "Sample  20  of  100\n",
            "Sample  25  of  100\n",
            "Sample  30  of  100\n",
            "Sample  35  of  100\n",
            "Sample  40  of  100\n",
            "Sample  45  of  100\n",
            "Sample  50  of  100\n",
            "Sample  55  of  100\n",
            "Sample  60  of  100\n",
            "Sample  65  of  100\n",
            "Sample  70  of  100\n",
            "Sample  75  of  100\n",
            "Sample  80  of  100\n",
            "Sample  85  of  100\n",
            "Sample  90  of  100\n",
            "Sample  95  of  100\n"
          ]
        }
      ]
    },
    {
      "cell_type": "code",
      "source": [
        "init = 'orthogonal'\n",
        "actkey = 'tanh'\n",
        "zsOrth, HhatsOrth, dHhatsOrth, RSTUOrth = CollectAllCorrelators(data,NSample=NSample,depth=depth,width=width,inputwidth=inputwidth,init=init,actkey=actkey,lambdabtilde=lambdabtilde,\n",
        "    lambdaWtilde=lambdaWtilde,measurePQ=measurePQ,measureRSTU=measureRSTU)"
      ],
      "metadata": {
        "colab": {
          "base_uri": "https://localhost:8080/"
        },
        "id": "X-mlQMGo1duj",
        "outputId": "31cbd80b-ef31-47ce-8ad6-50edd84fd977"
      },
      "execution_count": 8,
      "outputs": [
        {
          "output_type": "stream",
          "name": "stdout",
          "text": [
            "Sample  0  of  100\n",
            "Sample  5  of  100\n",
            "Sample  10  of  100\n",
            "Sample  15  of  100\n",
            "Sample  20  of  100\n",
            "Sample  25  of  100\n",
            "Sample  30  of  100\n",
            "Sample  35  of  100\n",
            "Sample  40  of  100\n",
            "Sample  45  of  100\n",
            "Sample  50  of  100\n",
            "Sample  55  of  100\n",
            "Sample  60  of  100\n",
            "Sample  65  of  100\n",
            "Sample  70  of  100\n",
            "Sample  75  of  100\n",
            "Sample  80  of  100\n",
            "Sample  85  of  100\n",
            "Sample  90  of  100\n",
            "Sample  95  of  100\n"
          ]
        }
      ]
    },
    {
      "cell_type": "code",
      "source": [
        "CorrDictGaus={}\n",
        "CorrDictGaus['K'] = MeasureK(zsGaus)\n",
        "CorrDictGaus['Theta'] = MeasureTheta(HhatsGaus)\n",
        "CorrDictGaus['A'] = MeasureA(HhatsGaus)\n",
        "CorrDictGaus['B'] = MeasureB(HhatsGaus)\n",
        "CorrDictGaus['D'] = MeasureD(zsGaus,HhatsGaus)\n",
        "CorrDictGaus['F'] = MeasureF(zsGaus,HhatsGaus)\n",
        "CorrDictGaus['P'] = MeasureP(zsGaus,dHhatsGaus)\n",
        "CorrDictGaus['Q'] = MeasureQ(zsGaus,dHhatsGaus)\n",
        "CorrDictGaus['R'] = RSTUGaus['R']\n",
        "CorrDictGaus['S'] = RSTUGaus['S']\n",
        "CorrDictGaus['T'] = RSTUGaus['T']\n",
        "CorrDictGaus['U'] = RSTUGaus['U']\n",
        "\n",
        "CorrDictOrth={}\n",
        "CorrDictOrth['K'] = MeasureK(zsOrth)\n",
        "CorrDictOrth['Theta'] = MeasureTheta(HhatsOrth)\n",
        "CorrDictOrth['A'] = MeasureA(HhatsOrth)\n",
        "CorrDictOrth['B'] = MeasureB(HhatsOrth)\n",
        "CorrDictOrth['D'] = MeasureD(zsOrth,HhatsOrth)\n",
        "CorrDictOrth['F'] = MeasureF(zsOrth,HhatsOrth)\n",
        "CorrDictOrth['P'] = MeasureP(zsOrth,dHhatsOrth)\n",
        "CorrDictOrth['Q'] = MeasureQ(zsOrth,dHhatsOrth)\n",
        "CorrDictOrth['R'] = RSTUOrth['R']\n",
        "CorrDictOrth['S'] = RSTUOrth['S']\n",
        "CorrDictOrth['T'] = RSTUOrth['T']\n",
        "CorrDictOrth['U'] = RSTUOrth['U']"
      ],
      "metadata": {
        "id": "xXHnRkaF2KWr"
      },
      "execution_count": 9,
      "outputs": []
    },
    {
      "cell_type": "code",
      "source": [
        "def PlotAllCorrelators(CorrDict,init,width,legend=True):\n",
        "    K = CorrDict['K']\n",
        "    Theta = CorrDict['Theta']\n",
        "    A = CorrDict['A']\n",
        "    B = CorrDict['B']\n",
        "    D = CorrDict['D']\n",
        "    F = CorrDict['F']\n",
        "    P = CorrDict['P']\n",
        "    Q = CorrDict['Q']\n",
        "    R = CorrDict['R']\n",
        "    S = CorrDict['S']\n",
        "    T = CorrDict['T']\n",
        "    U = CorrDict['U']\n",
        "    depth = len(K)\n",
        "\n",
        "    plt.scatter(range(1,depth),A[1:]/(Theta[1:]**2),label=r'$\\widetilde{A}$')\n",
        "\n",
        "    plt.scatter(range(1,depth),B[1:]/(Theta[1:]**2),label=r'$\\widetilde{B}$')\n",
        "\n",
        "    plt.scatter(range(1,depth),D[1:]/(Theta[1:]*K[1:]),label=r'$\\widetilde{D}$')\n",
        "\n",
        "    plt.scatter(range(1,depth),F[1:]/(Theta[1:]*K[1:]),label=r'$\\widetilde{F}$')\n",
        "\n",
        "    plt.scatter(range(1,depth),P[1:]/(Theta[1:]**2),label=r'$\\tilde{P}$')\n",
        "\n",
        "    plt.scatter(range(1,depth),Q[1:]/(Theta[1:]**2),label=r'$\\tilde{Q}$')\n",
        "\n",
        "    plt.scatter(range(1,depth),R[1:]*K[1:]/(Theta[1:]**3),label=r'$\\tilde{R}$')\n",
        "\n",
        "    plt.scatter(range(1,depth),S[1:]*K[1:]/(Theta[1:]**3),label=r'$\\tilde{S}$')\n",
        "\n",
        "    plt.scatter(range(1,depth),T[1:]*K[1:]/(Theta[1:]**3),label=r'$\\tilde{T}$')\n",
        "\n",
        "    plt.scatter(range(1,depth),U[1:]*K[1:]/(Theta[1:]**3),label=r'$\\tilde{U}$')\n",
        "\n",
        "    plt.xlim(0.5,depth-0.5)\n",
        "\n",
        "    plt.title(init+' weights, '+r'$n$ = ' +str(width))\n",
        "    plt.xlabel(r'Hidden layer $\\ell$')\n",
        "    plt.ylabel('Normalized correlator')\n",
        "    if(legend==True):\n",
        "        plt.legend(bbox_to_anchor=(1.02, 0.975), loc='upper left')"
      ],
      "metadata": {
        "id": "HkxNuHTr3dmG"
      },
      "execution_count": 10,
      "outputs": []
    },
    {
      "cell_type": "code",
      "source": [
        "plt.figure(figsize=(18,6))\n",
        "plt.subplot(1,100,(1,41))\n",
        "PlotAllCorrelators(CorrDictGaus,'Gaussian',20)\n",
        "plt.subplot(1,100,(59,100))\n",
        "PlotAllCorrelators(CorrDictOrth,'Orthogonal',20,legend=False)\n",
        "plt.show()"
      ],
      "metadata": {
        "colab": {
          "base_uri": "https://localhost:8080/",
          "height": 570
        },
        "id": "a9cQuuY22BaZ",
        "outputId": "0774d268-0dad-428c-ab7a-260e62b94bd7"
      },
      "execution_count": 11,
      "outputs": [
        {
          "output_type": "display_data",
          "data": {
            "text/plain": [
              "<Figure size 1800x600 with 2 Axes>"
            ],
            "image/png": "[encoded data removed]"
          },
          "metadata": {}
        }
      ]
    }
  ]
}