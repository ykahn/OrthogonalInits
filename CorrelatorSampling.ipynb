{
  "cells": [
    {
      "cell_type": "markdown",
      "metadata": {
        "id": "XvKGHhtM1qFd"
      },
      "source": [
        "Implemented so far: linear/tanh/ReLU activations, Gaussian/orthogonal/mixed inits, bias learning rates which can scale with depth. Works for rectangular networks where all hidden layers have the same width, but input dimension can be arbitrary. Multi-input supported for first NTK correlators with single-input NTK\n",
        "\n",
        "To do:\n",
        "- multi-input for PQ, RSTU, 4 arbitrary inputs"
      ]
    },
    {
      "cell_type": "code",
      "execution_count": null,
      "metadata": {
        "colab": {
          "base_uri": "https://localhost:8080/"
        },
        "id": "UkvPQYs99i49",
        "outputId": "4d59a006-33bf-498a-e2dd-48c653001833"
      },
      "outputs": [
        {
          "output_type": "stream",
          "name": "stdout",
          "text": [
            "Your runtime has 54.8 gigabytes of available RAM\n",
            "\n",
            "You are using a high-RAM runtime!\n"
          ]
        }
      ],
      "source": [
        "from psutil import virtual_memory\n",
        "ram_gb = virtual_memory().total / 1e9\n",
        "print('Your runtime has {:.1f} gigabytes of available RAM\\n'.format(ram_gb))\n",
        "\n",
        "if ram_gb < 20:\n",
        "  print('Not using a high-RAM runtime')\n",
        "else:\n",
        "  print('You are using a high-RAM runtime!')"
      ]
    },
    {
      "cell_type": "code",
      "execution_count": null,
      "metadata": {
        "id": "DP72nuhjIgeL"
      },
      "outputs": [],
      "source": [
        "import numpy as np\n",
        "import torch\n",
        "import torch.nn as nn\n",
        "#import torch.optim as optim\n",
        "from torchvision import datasets, transforms\n",
        "import matplotlib.pyplot as plt\n",
        "from itertools import combinations\n",
        "from scipy.stats import ortho_group\n",
        "import gc\n",
        "import pickle"
      ]
    },
    {
      "cell_type": "code",
      "execution_count": null,
      "metadata": {
        "id": "vn8aMAbc1l45"
      },
      "outputs": [],
      "source": [
        "#Dan programmable network code\n",
        "\n",
        "\n",
        "class MLP(nn.Module):\n",
        "    '''\n",
        "    Simple MLP with the number of layers defined programmatically.\n",
        "    '''\n",
        "    def __init__(self, activation, d=784, n=100, L=50, nL=10, cb=0.0, cw=1.0, weightinit='Gaussian', customweights = None, custombiases = None,\n",
        "                 rescale=False, scale=1.0, power=1.0):\n",
        "        '''\n",
        "        activation (function) is any activation function\n",
        "        d (int) is the input dimension (i.e. size of the image)\n",
        "        n (int) is the width of the hidden layers\n",
        "        L (int) is the number of hidden layers\n",
        "        nL (int) is the width of the final layer (i.e. number of classes)\n",
        "        cb (float) is the variance of the bias parameters\n",
        "        cw (float) is the variance of the weight parameters\n",
        "        rescale (bool) is whether preactivations and activations are rescaled\n",
        "        scale (float) is if there's rescaling, the scale of the rescaling independent of depth\n",
        "        power (float) is the power of the depth of the rescaling\n",
        "\n",
        "        Todo potentially: make n, cb, cw functions of layer l.\n",
        "        '''\n",
        "        super(MLP, self).__init__()\n",
        "\n",
        "        self.activation = activation\n",
        "        self.cb = cb\n",
        "        self.cw = cw\n",
        "        self.d = d\n",
        "        self.n = n\n",
        "        self.L = L\n",
        "        self.nL = nL\n",
        "        self.rescale =rescale\n",
        "        self.scale = scale\n",
        "        self.power = power\n",
        "        self.weightinit = weightinit\n",
        "\n",
        "        assert self.L > 0 # at least 1 hidden layer\n",
        "\n",
        "\n",
        "        # create layers\n",
        "        self.fcs = list()\n",
        "\n",
        "        # first layer is special\n",
        "        fc0 = nn.Linear(self.d, self.n)\n",
        "        self.fcs.append(fc0)\n",
        "\n",
        "        # middle layers, notice the L-1\n",
        "        for fci in range(L-1):\n",
        "            fci = nn.Linear(self.n, self.n)\n",
        "            self.fcs.append(fci)\n",
        "\n",
        "        # last layer is special\n",
        "        fcL = nn.Linear(self.n, self.nL)\n",
        "        self.fcs.append(fcL)\n",
        "\n",
        "        # register and initialize\n",
        "        for i, fc in enumerate(self.fcs):\n",
        "            if self.weightinit == 'mixed0':\n",
        "              self.weightinit = 'Gaussian' #initializes first layer to Gaussian\n",
        "              self._initialize_fc(fc)\n",
        "              self.add_module('fc%d' % i, fc)\n",
        "              self.weightinit = 'orthogonal' #changes to orthogonal for remaining layers\n",
        "            elif self.weightinit == 'custom':\n",
        "              fc.bias = torch.nn.Parameter(custombiases[i])\n",
        "              fc.weight = torch.nn.Parameter(customweights[i])\n",
        "              self.add_module('fc%d' % i, fc)\n",
        "            else:\n",
        "              self._initialize_fc(fc)\n",
        "              self.add_module('fc%d' % i, fc)\n",
        "\n",
        "    def forward(self, x):\n",
        "        zs = list()\n",
        "        a = x\n",
        "        zs.append(x)\n",
        "        for i in range(len(self.fcs)-1):\n",
        "            fc = self.fcs[i]\n",
        "            z = fc(a)\n",
        "            zs.append(z)\n",
        "            if self.rescale:\n",
        "                lambda_i = self.scale*(i+1)**(-self.power)\n",
        "                a = self.activation(lambda_i*z)/lambda_i\n",
        "            else:\n",
        "                a = self.activation(z)\n",
        "        z = self.fcs[self.L](a) # last one doesn't have activation\n",
        "        zs.append(z)\n",
        "        return z, zs\n",
        "\n",
        "    def _initialize_fc(self, fc):\n",
        "        '''\n",
        "        Initializes `fc` layer with cb and cw.\n",
        "        '''\n",
        "        with torch.no_grad():\n",
        "            bs = fc.bias.size()\n",
        "            b = torch.randn(bs)*(self.cb)**(1/2)\n",
        "            if self.weightinit == 'orthogonal': #NOTE!!! This only works for rectangular networks for the time being with all layers equal\n",
        "              ws = fc.weight.size()[0]\n",
        "              w = torch.tensor(np.sqrt(self.cw)*ortho_group.rvs(ws),dtype=torch.float32)\n",
        "            elif self.weightinit == 'Gaussian':\n",
        "              ws = fc.weight.size()\n",
        "              w = torch.randn(ws)*(self.cw/ws[1])**(1/2)\n",
        "            else:\n",
        "              raise Exception(\"Unsupported choice of inits\")\n",
        "            fc.bias = torch.nn.Parameter(b)\n",
        "            fc.weight = torch.nn.Parameter(w)\n",
        "\n",
        "def dact(act,x): #this is a hack, surely it's possible to get this with autodiff\n",
        "  if act == 'ReLU':\n",
        "    return torch.heaviside(x,values=torch.tensor([0.]))\n",
        "  elif act == 'tanh':\n",
        "    return torch.tensor(np.cosh(x.detach().numpy())**-2)\n",
        "  elif act == 'linear':\n",
        "    return torch.ones(x.shape)\n",
        "  else:\n",
        "    raise Exception(\"Unsupported choice of activation\")\n",
        "\n",
        "def ddact(act,x): #this is a hack, surely it's possible to get this with autodiff\n",
        "  if act == 'ReLU':\n",
        "    return torch.zeros(x.shape) #strictly speaking there is a delta function at zero, but all second derivative correlators end up vanishing for ReLU\n",
        "  elif act == 'tanh':\n",
        "    return torch.tensor(-2*(np.cosh(x.detach().numpy())**-2)*np.tanh(x.detach().numpy()))\n",
        "  elif act == 'linear':\n",
        "    return torch.zeros(x.shape)\n",
        "  else:\n",
        "    raise Exception(\"Unsupported choice of activation\")\n",
        "\n",
        "def d3act(act,x): #only works for smooth activation functions\n",
        "  if act == 'tanh':\n",
        "    return torch.tensor(-2*(np.cosh(x.detach().numpy())**-4) + 4*(np.cosh(x.detach().numpy())**-2)*(np.tanh(x.detach().numpy())**2))\n",
        "  elif act == 'linear':\n",
        "    return torch.zeros(x.shape)\n",
        "  else:\n",
        "    raise Exception(\"Unsupported choice of activation\")"
      ]
    },
    {
      "cell_type": "code",
      "execution_count": null,
      "metadata": {
        "id": "hSFYiyaP2OJD"
      },
      "outputs": [],
      "source": [
        "#theoretical values for correlators\n",
        "def ThetaReLU(l, lambdab = 1., lambdaW = 1., Kstar = 2.):\n",
        "  A2 = 0.5\n",
        "  return l*(lambdab + lambdaW*A2*Kstar)\n",
        "def VReLU(l, Kstar = 2.):\n",
        "  A2 = 0.5\n",
        "  A4 = 0.5\n",
        "  return (l-1)*(3*A4/(A2**2)-1)*(Kstar**2)\n",
        "def BReLU(l, lambdab = 1., lambdaW = 1., Kstar = 2.):\n",
        "  A2 = 0.5\n",
        "  A4 = 0.5\n",
        "  return (l*(l-1)*(2*l-1)/6)*(A4/(A2**2))*(lambdab + lambdaW*A2*Kstar)**2\n",
        "def DReLU(l, lambdab = 1., lambdaW = 1., Kstar = 2.):\n",
        "  A2 = 0.5\n",
        "  A4 = 0.5\n",
        "  return (l*(l-1)/2)*(lambdab*(A4/(A2**2)-1)*Kstar + lambdaW*A2*(4*A4/(A2**2) - 2)*Kstar**2)\n",
        "def AReLU(l, lambdab = 1., lambdaW = 1., Kstar = 2.): #the recursion is god-awful so this just solves the recursion, which requires V, Theta, and D\n",
        "  A2 = 0.5\n",
        "  A4 = 0.5\n",
        "  As = np.zeros(l+1)\n",
        "  if l == 0: return 0\n",
        "  else:\n",
        "    As[1] = 0\n",
        "    for i in range(1,l):\n",
        "      As[i+1] = As[i] + (lambdaW*A2)**2*((3*A4/(A2**2)-1)*(Kstar**2) + VReLU(i, Kstar)) \\\n",
        "      + 2*lambdaW*A2*(A4/(A2**2)-1)*Kstar*ThetaReLU(i, lambdab, lambdaW, Kstar) + 2*lambdaW*A2*DReLU(i, lambdab, lambdaW, Kstar) \\\n",
        "      + (A4/(A2**2)-1)*(ThetaReLU(i, lambdab, lambdaW, Kstar)**2)\n",
        "    return As[l]\n",
        "def FReLU(l, lambdab = 1., lambdaW = 1., Kstar = 2.):\n",
        "  A2 = 0.5\n",
        "  A4 = 0.5\n",
        "  return (l*(l-1)/2)*(A4/(A2**2))*(lambdab + lambdaW*A2*Kstar)*Kstar\n",
        "def PReLU(l, lambdab = 1., lambdaW = 1., Kstar = 2.):\n",
        "  return 0\n",
        "def QReLU(l, lambdab = 1., lambdaW = 1., Kstar = 2.):\n",
        "  A2 = 0.5\n",
        "  A4 = 0.5\n",
        "  return (l*(l**2 - 1)/6)*((A4/A2)*(lambdab + lambdaW*A2*Kstar)*lambdaW*Kstar)\n",
        "\n",
        "#Linear\n",
        "def ThetaLinear(l, lambdab = 1., lambdaW = 1., Kstar = 2.):\n",
        "    A2 = 1\n",
        "    return l*(lambdab + lambdaW*A2*Kstar)\n",
        "def VLinear(l, Kstar = 2.):\n",
        "    A2 = 1\n",
        "    A4 = 1\n",
        "    return (l-1)*(3*A4/(A2**2)-1)*(Kstar**2)\n",
        "def BLinear(l, lambdab = 1., lambdaW = 1., Kstar = 2.):\n",
        "    A2 = 1\n",
        "    A4 = 1\n",
        "    return (l*(l-1)*(2*l-1)/6)*(A4/(A2**2))*(lambdab + lambdaW*A2*Kstar)**2\n",
        "def DLinear(l, lambdab = 1., lambdaW = 1., Kstar = 2.):\n",
        "    A2 = 1\n",
        "    A4 = 1\n",
        "    return (l*(l-1)/2)*(lambdab*(A4/(A2**2)-1)*Kstar + lambdaW*A2*(4*A4/(A2**2) - 2)*(Kstar**2))\n",
        "def ALinear(l, lambdab = 1., lambdaW = 1., Kstar = 2.): #the recursion is god-awful so this just solves the recursion, which requires V, Theta, and D\n",
        "    A2 = 1\n",
        "    A4 = 1\n",
        "    As = np.zeros(l+1)\n",
        "    if l == 0: return 0\n",
        "    else:\n",
        "        As[1] = 0\n",
        "    for i in range(1,l):\n",
        "        As[i+1] = As[i] + (lambdaW*A2)**2*((3*A4/(A2**2)-1)*(Kstar**2) + VLinear(i, Kstar)) \\\n",
        "        + 2*lambdaW*A2*(A4/(A2**2)-1)*Kstar*ThetaLinear(i, lambdab, lambdaW, Kstar) + 2*lambdaW*A2*DLinear(i, lambdab, lambdaW, Kstar) \\\n",
        "        + (A4/(A2**2)-1)*(ThetaLinear(i, lambdab, lambdaW, Kstar)**2)\n",
        "    return As[l]\n",
        "def FLinear(l, lambdab = 1., lambdaW = 1., Kstar = 2.):\n",
        "    A2 = 1\n",
        "    A4 = 1\n",
        "    return (l*(l-1)/2)*(A4/(A2**2))*(lambdab + lambdaW*A2*Kstar)*Kstar\n",
        "def PLinear(l, lambdab = 1., lambdaW = 1., Kstar = 2.):\n",
        "    return 0\n",
        "def QLinear(l, lambdab = 1., lambdaW = 1., Kstar = 2.):\n",
        "    A2 = 1\n",
        "    A4 = 1\n",
        "    return (l*(l**2 - 1)/6)*((A4/A2)*(lambdab + lambdaW*A2*Kstar)*lambdaW*Kstar)\n",
        "\n",
        "#tanh -- assumes scaling of bias learning rates\n",
        "def ThetaTanh(l, lambdab = 1., lambdaW = 1.):\n",
        "    a1 = -2\n",
        "    sigma1 = 1\n",
        "    pperp = 1\n",
        "    if l ==0 : return 0\n",
        "    else:\n",
        "        return (lambdab + lambdaW*(sigma1**2)/(-a1))*(l**(1-pperp))\n",
        "\n",
        "def KTanh(l):\n",
        "    a1 = -2\n",
        "    if l ==0 : return 0\n",
        "    else:\n",
        "        return 1/(-a1)*(1/l)\n",
        "\n",
        "def VTanh(l):\n",
        "    a1 = -2\n",
        "    if l ==0 : return 0\n",
        "    else:\n",
        "        return (2/(3*(a1**2)))*(1/l)\n",
        "\n",
        "def ATanh(l, lambdab = 1., lambdaW = 1.):\n",
        "    a1 = -2\n",
        "    sigma1 = 1\n",
        "    pperp = 1\n",
        "    if l ==0 : return 0\n",
        "    else:\n",
        "        return (4/27)*(pperp*lambdab + (pperp-1)*lambdaW*(sigma1**2)/(-a1))*(l**(3-2*pperp))\n",
        "\n",
        "def BTanh(l, lambdab = 1., lambdaW = 1.):\n",
        "    a1 = -2\n",
        "    sigma1 = 1\n",
        "    pperp = 1\n",
        "    if l ==0 : return 0\n",
        "    else:\n",
        "        return (1/3)*((lambdab + lambdaW*(sigma1**2)/(-a1))**2)*(l**(3-2*pperp))\n",
        "\n",
        "def DTanh(l, lambdab = 1., lambdaW = 1.):\n",
        "    a1 = -2\n",
        "    sigma1 = 1\n",
        "    pperp = 1\n",
        "    if l ==0 : return 0\n",
        "    else:\n",
        "        return (-2/(9*(-a1)))*(pperp*lambdab + (pperp-1)*lambdaW*(sigma1**2)/(-a1))*(l**(1-pperp))\n",
        "\n",
        "def FTanh(l, lambdab = 1., lambdaW = 1.):\n",
        "    a1 = -2\n",
        "    sigma1 = 1\n",
        "    pperp = 1\n",
        "    if l ==0 : return 0\n",
        "    else:\n",
        "        return 1/(5-pperp)*1/(-a1)*(lambdab + lambdaW*(sigma1**2)/(-a1))*(l**(1-pperp))\n",
        "\n",
        "def PTanh(l, lambdab = 1., lambdaW = 1.):\n",
        "    a1 = -2\n",
        "    sigma1 = 1\n",
        "    pperp = 1\n",
        "    if l <2 : return 0\n",
        "    else:\n",
        "        return -(2-pperp)/(3*(5-pperp))*((lambdab + lambdaW*(sigma1**2)/(-a1))**2)*(l**(3-2*pperp))\n",
        "\n",
        "def QTanh(l, lambdab = 1., lambdaW = 1.):\n",
        "    a1 = -2\n",
        "    sigma1 = 1\n",
        "    pperp = 1\n",
        "    if l <2 : return 0\n",
        "    else:\n",
        "        return 1/((5-pperp)**2)*(1-pperp - lambdab/(lambdab + lambdaW*sigma1**2/(-a1)))*((lambdab + lambdaW*(sigma1**2)/(-a1))**2)*(l**(3-2*pperp))\n",
        "\n",
        "def RTanh(l, lambdab = 1., lambdaW = 1.):\n",
        "    a1 = -2\n",
        "    sigma1 = 1\n",
        "    pperp = 1\n",
        "    if l <2 : return 0\n",
        "    else:\n",
        "        return -(-a1)*l**2/(48)*(3*lambdab + 4*lambdaW*sigma1**2/(-a1))*(lambdab + lambdaW*sigma1**2/(-a1))**2\n",
        "\n",
        "def STanh(l, lambdab = 1., lambdaW = 1.):\n",
        "    a1 = -2\n",
        "    sigma1 = 1\n",
        "    pperp = 1\n",
        "    if l <2 : return 0\n",
        "    else:\n",
        "        return l**2/(12)*((lambdab + lambdaW*sigma1**2/(-a1))**2)*(lambdaW*sigma1**2)\n",
        "\n",
        "def TTanh(l, lambdab = 1., lambdaW = 1.):\n",
        "    a1 = -2\n",
        "    sigma1 = 1\n",
        "    pperp = 1\n",
        "    if l <2 : return 0\n",
        "    else:\n",
        "        return (-a1)*l**2/(32)*(lambdab + lambdaW*sigma1**2/(-a1))*lambdab**2\n",
        "\n",
        "def UTanh(l, lambdab = 1., lambdaW = 1.):\n",
        "    a1 = -2\n",
        "    sigma1 = 1\n",
        "    pperp = 1\n",
        "    if l <2 : return 0\n",
        "    else:\n",
        "        return (-a1/2)*((lambdab + lambdaW*sigma1**2/(-a1))**3)\n",
        "\n",
        "def GetTheoryVals(data, depth = 10, actkey = 'ReLU', lambdab = 1., lambdaW = 1.):\n",
        "    if actkey == 'ReLU':\n",
        "        Kstar = 2*np.mean(data.detach().numpy()**2) #automatically accounts for possibly different n0\n",
        "        Kthy = np.array([min(l,1)*Kstar for l in range(0,depth)])\n",
        "        Vthy = np.array([min(l,1)*VReLU(l,Kstar) for l in range(0,depth)])\n",
        "        Thetathy = np.array([ThetaReLU(l,lambdab=lambdab,lambdaW=lambdaW,Kstar=Kstar) for l in range(0,depth)])\n",
        "        Athy = np.array([AReLU(l,lambdab=lambdab,lambdaW=lambdaW,Kstar=Kstar) for l in range(0,depth)])\n",
        "        Bthy = np.array([BReLU(l,lambdab=lambdab,lambdaW=lambdaW,Kstar=Kstar) for l in range(0,depth)])\n",
        "        Dthy = np.array([DReLU(l,lambdab=lambdab,lambdaW=lambdaW,Kstar=Kstar) for l in range(0,depth)])\n",
        "        Fthy = np.array([FReLU(l,lambdab=lambdab,lambdaW=lambdaW,Kstar=Kstar) for l in range(0,depth)])\n",
        "        Pthy = np.array([PReLU(l,lambdab=lambdab,lambdaW=lambdaW,Kstar=Kstar) for l in range(0,depth)])\n",
        "        Qthy = np.array([QReLU(l,lambdab=lambdab,lambdaW=lambdaW,Kstar=Kstar) for l in range(0,depth)])\n",
        "        theorydict = {'K': Kthy, 'V': Vthy, 'Theta': Thetathy, 'A': Athy, 'B': Bthy, 'D': Dthy, 'F': Fthy, 'P': Pthy, 'Q': Qthy}\n",
        "        return theorydict\n",
        "    if actkey == 'linear':\n",
        "        Kstar = np.mean(data.detach().numpy()**2) #automatically accounts for possibly different n0\n",
        "        Kthy = np.array([min(l,1)*Kstar for l in range(0,depth)])\n",
        "        Vthy = np.array([min(l,1)*VLinear(l,Kstar) for l in range(0,depth)])\n",
        "        Thetathy = np.array([ThetaLinear(l,lambdab,lambdaW=lambdaWtilde,Kstar=Kstar) for l in range(0,depth)])\n",
        "        Athy = np.array([ALinear(l,lambdab=lambdab,lambdaW=lambdaW,Kstar=Kstar) for l in range(0,depth)])\n",
        "        Bthy = np.array([BLinear(l,lambdab=lambdab,lambdaW=lambdaW,Kstar=Kstar) for l in range(0,depth)])\n",
        "        Dthy = np.array([DLinear(l,lambdab=lambdab,lambdaW=lambdaW,Kstar=Kstar) for l in range(0,depth)])\n",
        "        Fthy = np.array([FLinear(l,lambdab=lambdab,lambdaW=lambdaW,Kstar=Kstar) for l in range(0,depth)])\n",
        "        Pthy = np.array([PLinear(l,lambdab=lambdab,lambdaW=lambdaW,Kstar=Kstar) for l in range(0,depth)])\n",
        "        Qthy = np.array([QLinear(l,lambdab=lambdab,lambdaW=lambdaW,Kstar=Kstar) for l in range(0,depth)])\n",
        "        theorydict = {'K': Kthy, 'V': Vthy, 'Theta': Thetathy, 'A': Athy, 'B': Bthy, 'D': Dthy, 'F': Fthy, 'P': Pthy, 'Q': Qthy}\n",
        "        return theorydict\n",
        "    if actkey == 'tanh':\n",
        "        Kthy = np.array([KTanh(l) for l in range(0,depth)])\n",
        "        Vthy = np.array([VTanh(l) for l in range(0,depth)])\n",
        "        Thetathy = np.array([ThetaTanh(l,lambdab=lambdab,lambdaW=lambdaW) for l in range(0,depth)])\n",
        "        Athy = np.array([ATanh(l,lambdab=lambdab,lambdaW=lambdaW) for l in range(0,depth)])\n",
        "        Bthy = np.array([BTanh(l,lambdab=lambdab,lambdaW=lambdaW) for l in range(0,depth)])\n",
        "        Dthy = np.array([DTanh(l,lambdab=lambdab,lambdaW=lambdaW) for l in range(0,depth)])\n",
        "        Fthy = np.array([FTanh(l,lambdab=lambdab,lambdaW=lambdaW) for l in range(0,depth)])\n",
        "        Pthy = np.array([PTanh(l,lambdab=lambdab,lambdaW=lambdaW) for l in range(0,depth)])\n",
        "        Qthy = np.array([QTanh(l,lambdab=lambdab,lambdaW=lambdaW) for l in range(0,depth)])\n",
        "        Rthy = np.array([RTanh(l,lambdab=lambdab,lambdaW=lambdaW) for l in range(0,depth)])\n",
        "        Sthy = np.array([STanh(l,lambdab=lambdab,lambdaW=lambdaW) for l in range(0,depth)])\n",
        "        Tthy = np.array([TTanh(l,lambdab=lambdab,lambdaW=lambdaW) for l in range(0,depth)])\n",
        "        Uthy = np.array([UTanh(l,lambdab=lambdab,lambdaW=lambdaW) for l in range(0,depth)])\n",
        "        theorydict = {'K': Kthy, 'V': Vthy, 'Theta': Thetathy, 'A': Athy, 'B': Bthy, 'D': Dthy, 'F': Fthy, 'P': Pthy, 'Q': Qthy, 'R': Rthy,\n",
        "                      'S': Sthy, 'T': Tthy, 'U': Uthy}\n",
        "        return theorydict\n",
        "\n"
      ]
    },
    {
      "cell_type": "code",
      "execution_count": null,
      "metadata": {
        "id": "GeYCep-82UiY"
      },
      "outputs": [],
      "source": [
        "#measure various correlators -- note that R/S/T/U are measured online since they only involve ddNTK mean\n",
        "# for multi-input, right now only looking at two-input alpha-alpha-beta-beta structure and single-input NTK\n",
        "\n",
        "def MeasureK(zs,zs2=None):\n",
        "  zsnp=zs.detach().numpy()\n",
        "  nl = zs.shape[2]\n",
        "  if zs2 is None:\n",
        "    Kmeas = np.mean(np.mean(zsnp**2,axis=2),axis=0)\n",
        "  else:\n",
        "    zs2np=zs2.detach().numpy()\n",
        "    Kmeas = np.mean((1/nl)*np.einsum('ijk,ijk->ij',zsnp,zs2np),axis=0)\n",
        "  Kmeas[0] = 0 #could set this to Kstar but zeroth layer stuff is just placeholder for everything else\n",
        "  return Kmeas\n",
        "\n",
        "def MeasureV(zs,zs2=None):\n",
        "  zsnp=zs.detach().numpy()\n",
        "  nl = zs.shape[2]\n",
        "  if zs2 is None:\n",
        "    K = MeasureK(zs)\n",
        "    Vmeas = nl/(nl*(nl-1)/2)*sum(np.mean((zsnp[:,:,i[0]]**2)*(zsnp[:,:,i[1]]**2),axis=0) - K**2 for i in combinations(range(nl),2))\n",
        "  else:\n",
        "    zs2np=zs2.detach().numpy()\n",
        "    K1 = MeasureK(zs)\n",
        "    K2 = MeasureK(zs2)\n",
        "    Vmeas = nl/(nl*(nl-1)/2)*sum(np.mean((zsnp[:,:,i[0]]**2)*(zs2np[:,:,i[1]]**2),axis=0) - K1*K2 for i in combinations(range(nl),2))\n",
        "  Vmeas[0] = 0\n",
        "  return Vmeas\n",
        "\n",
        "def MeasureV6(zs):\n",
        "  zsnp=zs.detach().numpy()\n",
        "  nl = zs.shape[2]\n",
        "  K = MeasureK(zs)\n",
        "  Ez4 = 1/(nl*(nl-1)/2)*sum(np.mean((zsnp[:,:,i[0]]**2)*(zsnp[:,:,i[1]]**2),axis=0) for i in combinations(range(nl),2))\n",
        "  V6meas = nl**2/(nl*(nl-1)*(nl-2)/6)*sum(np.mean((zsnp[:,:,i[0]]**2)*(zsnp[:,:,i[1]]**2)*(zsnp[:,:,i[2]]**2),axis=0) - 3*K*Ez4 + 2*K**3 for i in combinations(range(nl),3))\n",
        "  V6meas[0] = 0\n",
        "  return V6meas\n",
        "\n",
        "def MeasureTheta(Hhats):\n",
        "  nl = Hhats.shape[2]\n",
        "  return (1/nl)*np.mean(np.trace(Hhats.detach().numpy(),axis1=2,axis2=3),axis=0)\n",
        "\n",
        "def MeasureA(Hhats,Hhats2=None):\n",
        "    DeltaHhats= Hhats.detach().numpy() - np.mean(Hhats.detach().numpy(), axis=0)\n",
        "    nl = Hhats.shape[2]\n",
        "    if Hhats2 is None:\n",
        "      Ameas = nl/(nl*(nl-1)/2)*sum(np.mean(DeltaHhats[:,:,i[0],i[0]]*DeltaHhats[:,:,i[1],i[1]],axis=0) for i in combinations(range(nl),2))\n",
        "    else:\n",
        "      DeltaHhats2= Hhats2.detach().numpy() - np.mean(Hhats2.detach().numpy(), axis=0)\n",
        "      Ameas = nl/(nl*(nl-1)/2)*sum(np.mean(DeltaHhats[:,:,i[0],i[0]]*DeltaHhats2[:,:,i[1],i[1]],axis=0) for i in combinations(range(nl),2))\n",
        "    return Ameas\n",
        "\n",
        "def MeasureB(Hhats, Hhats2=None):\n",
        "    DeltaHhats= Hhats.detach().numpy() - np.mean(Hhats.detach().numpy(), axis=0)\n",
        "    nl = Hhats.shape[2]\n",
        "    if Hhats2 is None:\n",
        "      Bmeas1 = nl/(nl*(nl-1)/2)*sum(np.mean(DeltaHhats[:,:,i[0],i[1]]*DeltaHhats[:,:,i[0],i[1]],axis=0) for i in combinations(range(nl),2))\n",
        "      Bmeas2 = nl/(nl*(nl-1)/2)*sum(np.mean(DeltaHhats[:,:,i[0],i[1]]*DeltaHhats[:,:,i[1],i[0]],axis=0) for i in combinations(range(nl),2))\n",
        "    #these should be equal, can return both values to check\n",
        "    else:\n",
        "      DeltaHhats2= Hhats2.detach().numpy() - np.mean(Hhats2.detach().numpy(), axis=0)\n",
        "      Bmeas1 = nl/(nl*(nl-1)/2)*sum(np.mean(DeltaHhats[:,:,i[0],i[1]]*DeltaHhats2[:,:,i[0],i[1]],axis=0) for i in combinations(range(nl),2))\n",
        "      Bmeas2 = nl/(nl*(nl-1)/2)*sum(np.mean(DeltaHhats[:,:,i[0],i[1]]*DeltaHhats2[:,:,i[1],i[0]],axis=0) for i in combinations(range(nl),2))\n",
        "    return Bmeas1\n",
        "\n",
        "def MeasureD(zs,Hhats):\n",
        "  DeltaHhats= Hhats.detach().numpy() - np.mean(Hhats.detach().numpy(), axis=0)\n",
        "  zsnp=zs.detach().numpy()\n",
        "  nl = Hhats.shape[2]\n",
        "  Dmeas=nl/(nl*(nl-1)/2)*sum(np.mean((zsnp[:,:,i[0]]**2)*DeltaHhats[:,:,i[1],i[1]],axis=0) for i in combinations(range(nl),2))\n",
        "  return Dmeas\n",
        "\n",
        "def MeasureF(zs,Hhats):\n",
        "  DeltaHhats= Hhats.detach().numpy() - np.mean(Hhats.detach().numpy(), axis=0)\n",
        "  zsnp=zs.detach().numpy()\n",
        "  nl = Hhats.shape[2]\n",
        "  F1meas=nl/(nl*(nl-1)/2)*sum(np.mean(zsnp[:,:,i[0]]*zsnp[:,:,i[1]]*DeltaHhats[:,:,i[0],i[1]],axis=0) for i in combinations(range(nl),2))\n",
        "  F2meas=nl/(nl*(nl-1)/2)*sum(np.mean(zsnp[:,:,i[0]]*zsnp[:,:,i[1]]*DeltaHhats[:,:,i[1],i[0]],axis=0) for i in combinations(range(nl),2))\n",
        "  #these should be equal, can return both values to check\n",
        "  return F1meas\n",
        "\n",
        "def MeasureP(zs,dHhats):\n",
        "  zsnp=zs.detach().numpy()\n",
        "  nl = zsnp.shape[2]\n",
        "  dHhatsnp = dHhats.detach().numpy()\n",
        "  Pmeas = nl/(nl*(nl-1)/2)*sum(np.mean(dHhatsnp[:,:,i[0],i[1],i[1]]*zsnp[:,:,i[0]],axis=0) for i in combinations(range(nl),2))\n",
        "  return Pmeas\n",
        "\n",
        "def MeasureQ(zs,dHhats):\n",
        "  zsnp=zs.detach().numpy()\n",
        "  nl = zsnp.shape[2]\n",
        "  dHhatsnp = dHhats.detach().numpy()\n",
        "  Q1meas = nl/(nl*(nl-1)/2)*sum(np.mean(dHhatsnp[:,:,i[0],i[0],i[1]]*zsnp[:,:,i[1]],axis=0) for i in combinations(range(nl),2))\n",
        "  Q2meas = nl/(nl*(nl-1)/2)*sum(np.mean(dHhatsnp[:,:,i[0],i[1],i[0]]*zsnp[:,:,i[1]],axis=0) for i in combinations(range(nl),2))\n",
        "  #these should be equal, can return both values to check\n",
        "  return Q1meas"
      ]
    },
    {
      "cell_type": "code",
      "execution_count": null,
      "metadata": {
        "id": "cBhWRAB57bkt"
      },
      "outputs": [],
      "source": [
        "def CollectAllCorrelators(data,data2=None,NSample=1000,depth=10,width=30,inputwidth=30,init='Gaussian',actkey='tanh',\n",
        "                          lambdabtilde=1.0,lambdaWtilde=1.0,measurePQ=False,measureRSTU=False):\n",
        "\n",
        "  Cb = 0 #all activations have Cb = 0 for criticality\n",
        "  if actkey == 'tanh':\n",
        "    if init =='Gaussian':\n",
        "      CW = 1.0 + 2/(3*width) # NLO tuning\n",
        "    else:\n",
        "      CW = 1.0 # NLO tuning vanishes for orthogonal. Maybe do something clever for mixed inits?\n",
        "    act = torch.tanh\n",
        "  elif actkey == 'linear':\n",
        "    CW = 1.0 # NLO tuning vanishes for scale-invariant\n",
        "    act = lambda x: x\n",
        "  elif actkey == 'ReLU':\n",
        "    CW = 2.0 # NLO tuning vanishes for scale-invariant\n",
        "    act = nn.ReLU()\n",
        "  else:\n",
        "    raise Exception(\"Unsupported choice of activation\")\n",
        "\n",
        "  if actkey == 'tanh':  #bias learning rate is an array that takes into account depth rescaling as appropriate\n",
        "    lambdab_arr = lambdabtilde*np.array([1/max(l,1) for l in range(0,depth)])\n",
        "  else:\n",
        "    lambdab_arr = lambdabtilde*np.ones(depth)\n",
        "\n",
        "  #initialize all arrays for measurement\n",
        "  zs=torch.zeros((NSample,depth, width)) #NOTE! zeroth entry is a DUMMY ENTRY ONLY because input width might be different\n",
        "  Hhats=torch.zeros((NSample,depth,width,width)) #NOTE! zeroth entry is a DUMMY ENTRY ONLY because input width might be different\n",
        "  if data2 is not None:\n",
        "    zs2 = torch.zeros((NSample,depth, width))\n",
        "    Hhats2= torch.zeros((NSample,depth,width,width))\n",
        "  if measurePQ:\n",
        "    dHhats = torch.zeros((NSample,depth,width,width,width)) #this is the limiting factor for memory!\n",
        "  if measureRSTU:\n",
        "    Rmeas = np.zeros(depth)\n",
        "#    Rmeas2 = np.zeros(depth)\n",
        "#    Rmeas3 = np.zeros(depth)\n",
        "    Smeas = np.zeros(depth)\n",
        "    Tmeas = np.zeros(depth)\n",
        "    Umeas = np.zeros(depth)\n",
        "\n",
        "  #auxiliary stuff we don't need to store\n",
        "  sigmas=torch.zeros((depth,width))\n",
        "  sigmaprs=torch.zeros((depth,width))\n",
        "  if data2 is not None:\n",
        "    sigmas2 = torch.zeros((depth,width))\n",
        "    sigmaprs2 = torch.zeros((depth,width))\n",
        "  sigmapprs=torch.zeros((depth,width))\n",
        "  sigma3prs=torch.zeros((depth,width))\n",
        "\n",
        "  for sample in range(NSample):\n",
        "  #  if sample % 2 ==0: print(sample)\n",
        "    mynet=MLP(activation=act,d=data.shape[0],n=width,nL=width,L=depth,cw=CW,weightinit=init)\n",
        "\n",
        "    #initialize dictionary to call network layers\n",
        "    layerdict_ = {}\n",
        "    for i, fc in enumerate(mynet.fcs):\n",
        "      layerdict_['layer%s' % i]  = fc #NOTE! layer fcl contains W^(l+1)\n",
        "    _, zlist = mynet.forward(data)\n",
        "    if data2 is not None:\n",
        "      _, zlist2 = mynet.forward(data2)\n",
        "\n",
        "    #get preactivations and activations/derivatives\n",
        "    for l in range(1,depth): #leave everything at layer zero as zero\n",
        "      zs[sample,l] = zlist[l]\n",
        "      sigmas[l] = act(zs[sample,l])\n",
        "      sigmaprs[l] = dact(actkey,zs[sample,l])\n",
        "      if data2 is not None:\n",
        "        zs2[sample,l] = zlist2[l]\n",
        "        sigmas2[l] = act(zs2[sample,l])\n",
        "        sigmaprs2[l] = dact(actkey,zs2[sample,l])\n",
        "      if measurePQ:\n",
        "        sigmapprs[l] = ddact(actkey,zs[sample,l])\n",
        "      if measureRSTU:\n",
        "        sigma3prs[l] = d3act(actkey,zs[sample,l])\n",
        "\n",
        "    #initial conditions for H recursion at layer 1 (8.23)\n",
        "    Hhats[sample,1] = torch.eye(width)*(lambdab_arr[1] + (lambdaWtilde/inputwidth)*torch.sum(data**2)) #note that normalization is by inputwidth\n",
        "    if data2 is not None:\n",
        "      Hhats2[sample,1] = torch.eye(width)*(lambdab_arr[1] + (lambdaWtilde/inputwidth)*torch.sum(data2**2))\n",
        "    #initial conditions for dH, ddH at layer 1 (it vanishes): automatically satisfied by initialization of dHhat and ddH_I, ddH_II arrays\n",
        "\n",
        "    if measureRSTU:\n",
        "      ddH_I = torch.zeros(width,width,width,width) #can compute ddNTK means on the fly so don't need NSample dimension\n",
        "      ddH_II = torch.zeros(width,width,width,width)\n",
        "\n",
        "    #compute H forward equation (8.12) and dH forward equation (11.24)\n",
        "    for l in range(1,depth-1):\n",
        "      Ws = layerdict_['layer%s' % l].weight\n",
        "      Hhats[sample,l+1] = torch.eye(width)*(lambdab_arr[l+1] + (lambdaWtilde/width)*torch.sum(sigmas[l]**2)) + torch.einsum('aj,bk,j,k,jk->ab',Ws,Ws,sigmaprs[l],sigmaprs[l],Hhats[sample,l])\n",
        "      if data2 is not None:\n",
        "        Hhats2[sample,l+1] = torch.eye(width)*(lambdab_arr[l+1] + (lambdaWtilde/width)*torch.sum(sigmas2[l]**2)) + torch.einsum('aj,bk,j,k,jk->ab',Ws,Ws,sigmaprs2[l],sigmaprs2[l],Hhats2[sample,l])\n",
        "      if measurePQ:\n",
        "      #index labeling for einsum: (i0 i1 i2) = (abc), (k0 k1 k2) = (klm)\n",
        "        dHhats[sample,l+1] = (lambdaWtilde/width)*(torch.einsum('ab,cm,k,k,m,km->abc',torch.eye(width),Ws,sigmaprs[l],sigmas[l],sigmaprs[l],Hhats[sample,l]) +\\\n",
        "                                                  torch.einsum('ac,bl,k,l,k,kl->abc',torch.eye(width),Ws,sigmaprs[l],sigmas[l],sigmaprs[l],Hhats[sample,l])) +\\\n",
        "                          torch.einsum('ak,bl,cm,k,l,m,klm->abc',Ws,Ws,Ws,sigmaprs[l],sigmaprs[l],sigmaprs[l],dHhats[sample,l]) +\\\n",
        "                          torch.einsum('ak,bl,cm,k,l,m,kl,km->abc',Ws,Ws,Ws,sigmapprs[l],sigmaprs[l],sigmaprs[l],Hhats[sample,l],Hhats[sample,l])\n",
        "\n",
        "      if measureRSTU:\n",
        "      #still inside l loop\n",
        "      # width*E[ddH_I] with 2 pairs of indices equal is R\n",
        "      #index labeling for einsum: (i0 i1 i2 i3) = (abcd), (j0 j1 j2 j3) = (jklm), in first 3 terms use delta to eliminate a\n",
        "\n",
        "        deltaterm = (lambdaWtilde/width)*(torch.einsum('ab,cl,dm,k,l,m,k,kl,km->abcd',torch.eye(width),Ws,Ws,sigmas[l],sigmaprs[l],sigmaprs[l],sigmapprs[l],Hhats[sample,l],Hhats[sample,l]) +\\\n",
        "                                        torch.einsum('ab,cl,dm,k,l,m,k,klm->abcd',torch.eye(width),Ws,Ws,sigmas[l],sigmaprs[l],sigmaprs[l],sigmaprs[l],dHhats[sample,l]) +\\\n",
        "                                        torch.einsum('ac,dm,bk,l,m,k,l,lm,lk->abcd',torch.eye(width),Ws,Ws,sigmas[l],sigmaprs[l],sigmaprs[l],sigmapprs[l],Hhats[sample,l],Hhats[sample,l]) +\\\n",
        "                                        torch.einsum('ac,dm,bk,l,m,k,l,lmk->abcd',torch.eye(width),Ws,Ws,sigmas[l],sigmaprs[l],sigmaprs[l],sigmaprs[l],dHhats[sample,l]) +\\\n",
        "                                        torch.einsum('ad,bk,cl,m,k,l,m,mk,ml->abcd',torch.eye(width),Ws,Ws,sigmas[l],sigmaprs[l],sigmaprs[l],sigmapprs[l],Hhats[sample,l],Hhats[sample,l]) +\\\n",
        "                                        torch.einsum('ad,bk,cl,m,k,l,m,mkl->abcd',torch.eye(width),Ws,Ws,sigmas[l],sigmaprs[l],sigmaprs[l],sigmaprs[l],dHhats[sample,l]))\n",
        "\n",
        "        ddHterm = torch.einsum('aj,bk,cl,dm,k,l,m,j,jklm->abcd',Ws,Ws,Ws,Ws,sigmaprs[l],sigmaprs[l],sigmaprs[l],sigmaprs[l],ddH_I) +\\\n",
        "                  torch.einsum('aj,bk,cl,dm,k,l,m,j,jkl,jm->abcd',Ws,Ws,Ws,Ws,sigmaprs[l],sigmaprs[l],sigmaprs[l],sigmapprs[l],dHhats[sample,l],Hhats[sample,l]) +\\\n",
        "                  torch.einsum('aj,bk,cl,dm,k,l,m,j,jlm,jk->abcd',Ws,Ws,Ws,Ws,sigmaprs[l],sigmaprs[l],sigmaprs[l],sigmapprs[l],dHhats[sample,l],Hhats[sample,l]) +\\\n",
        "                  torch.einsum('aj,bk,cl,dm,k,l,m,j,jmk,jl->abcd',Ws,Ws,Ws,Ws,sigmaprs[l],sigmaprs[l],sigmaprs[l],sigmapprs[l],dHhats[sample,l],Hhats[sample,l]) +\\\n",
        "                  torch.einsum('aj,bk,cl,dm,k,l,m,j,jk,jl,jm->abcd',Ws,Ws,Ws,Ws,sigmaprs[l],sigmaprs[l],sigmaprs[l],sigma3prs[l],Hhats[sample,l],Hhats[sample,l],Hhats[sample,l])\n",
        "        ddH_I = deltaterm + ddHterm #this is now ddH_I at layer l+1\n",
        "\n",
        "        #now compute expectations\n",
        "        Rmeas[l+1] += (1/NSample)*width/(width*(width-1)/2)*sum(ddH_I[i[0],i[0],i[1],i[1]] for i in combinations(range(width),2)).detach().numpy()\n",
        "  #      Rmeas2[l+1] += (1/NSample)*width/(width*(width-1)/2)*sum(ddH_I[i[0],i[1],i[0],i[1]] for i in combinations(range(width),2)).detach().numpy() #only need these to check\n",
        "  #      Rmeas3[l+1] += (1/NSample)*width/(width*(width-1)/2)*sum(ddH_I[i[0],i[1],i[1],i[0]] for i in combinations(range(width),2)).detach().numpy()  #only need these to check\n",
        "\n",
        "      #index labeling for einsum: (i1 i2 i3 i4) = (abcd), (j1 j2 j3 j4) = (jklm)\n",
        "        ddH_II = ((lambdaWtilde/width)**2)*torch.einsum('ac,bd,j,k,j,k,jk->abcd',torch.eye(width),torch.eye(width),sigmaprs[l],sigmaprs[l],sigmas[l],sigmas[l],Hhats[sample,l]) +\\\n",
        "                (lambdaWtilde/width)*(torch.einsum('ab,jk,cl,dm,j,k,l,m,jl,km->abcd',torch.eye(width),torch.eye(width),Ws,Ws,sigmaprs[l],sigmaprs[l],sigmaprs[l],sigmaprs[l],Hhats[sample,l],Hhats[sample,l]) +\\\n",
        "                                      torch.einsum('ac,jl,bk,dm,l,m,j,k,kj,km->abcd',torch.eye(width),torch.eye(width),Ws,Ws,sigmas[l],sigmaprs[l],sigmaprs[l],sigmapprs[l],Hhats[sample,l],Hhats[sample,l]) +\\\n",
        "                                      torch.einsum('ac,jl,bk,dm,l,m,j,k,kjm->abcd',torch.eye(width),torch.eye(width),Ws,Ws,sigmas[l],sigmaprs[l],sigmaprs[l],sigmaprs[l],dHhats[sample,l]) +\\\n",
        "                                      torch.einsum('bd,km,aj,cl,m,l,k,j,jk,jl->abcd',torch.eye(width),torch.eye(width),Ws,Ws,sigmas[l],sigmaprs[l],sigmaprs[l],sigmapprs[l],Hhats[sample,l],Hhats[sample,l]) +\\\n",
        "                                      torch.einsum('bd,km,aj,cl,m,l,k,j,jkl->abcd',torch.eye(width),torch.eye(width),Ws,Ws,sigmas[l],sigmaprs[l],sigmaprs[l],sigmaprs[l],dHhats[sample,l])) +\\\n",
        "                torch.einsum('aj,bk,cl,dm,l,m,j,k,jklm->abcd',Ws,Ws,Ws,Ws,sigmaprs[l],sigmaprs[l],sigmaprs[l],sigmaprs[l],ddH_II) +\\\n",
        "                torch.einsum('aj,bk,cl,dm,l,m,j,k,jk,jl,km->abcd',Ws,Ws,Ws,Ws,sigmaprs[l],sigmaprs[l],sigmapprs[l],sigmapprs[l],Hhats[sample,l],Hhats[sample,l],Hhats[sample,l]) +\\\n",
        "                torch.einsum('aj,bk,cl,dm,l,m,j,k,km,jkl->abcd',Ws,Ws,Ws,Ws,sigmaprs[l],sigmaprs[l],sigmaprs[l],sigmapprs[l],Hhats[sample,l],dHhats[sample,l]) +\\\n",
        "                torch.einsum('aj,bk,cl,dm,l,m,k,j,jl,kjm->abcd',Ws,Ws,Ws,Ws,sigmaprs[l],sigmaprs[l],sigmaprs[l],sigmapprs[l],Hhats[sample,l],dHhats[sample,l])\n",
        "      #now compute expectations\n",
        "        Smeas[l+1] += (1/NSample)*width/(width*(width-1)/2)*sum(ddH_II[i[0],i[0],i[1],i[1]] for i in combinations(range(width),2)).detach().numpy()\n",
        "        Tmeas[l+1] += (1/NSample)*width/(width*(width-1)/2)*sum(ddH_II[i[0],i[1],i[0],i[1]] for i in combinations(range(width),2)).detach().numpy()\n",
        "        Umeas[l+1] += (1/NSample)*width/(width*(width-1)/2)*sum(ddH_II[i[0],i[1],i[1],i[0]] for i in combinations(range(width),2)).detach().numpy()\n",
        "\n",
        "  #  del mynet\n",
        "    if measureRSTU:\n",
        "      del deltaterm\n",
        "      del ddHterm\n",
        "      del ddH_I\n",
        "      del ddH_II\n",
        "      gc.collect()\n",
        "\n",
        "  if measurePQ:\n",
        "    if measureRSTU:\n",
        "      RSTUDict={'R': Rmeas, 'S': Smeas, 'T': Tmeas, 'U': Umeas}\n",
        "      return zs, Hhats, dHhats, RSTUDict\n",
        "    else:\n",
        "      return zs, Hhats, dHhats\n",
        "  if data2 is not None:\n",
        "    return zs, zs2, Hhats, Hhats2\n",
        "  else:\n",
        "    return zs, Hhats\n",
        "\n"
      ]
    },
    {
      "cell_type": "markdown",
      "metadata": {
        "id": "v8Y6-KUMKlnk"
      },
      "source": [
        "## Here begins the experiment.\n",
        "\n",
        "Largest network for measuring through P and Q: depth 8, width 75, NSample = 250\n",
        "\n",
        "Largest (so far) for measuring RSTU: depth 11, width 50, NSample = 100 (8.5 min runtime for both Gaussian and orthogonal)"
      ]
    },
    {
      "cell_type": "code",
      "execution_count": null,
      "metadata": {
        "id": "OF5ZZmZP2XhP"
      },
      "outputs": [],
      "source": [
        "#network architecture\n",
        "depth = 10\n",
        "width = 30\n",
        "#inputwidth = 128\n",
        "inputwidth = width\n",
        "#random input data (single-input)\n",
        "#data = torch.ones(inputwidth)\n",
        "data = torch.Tensor(np.random.rand(inputwidth))"
      ]
    },
    {
      "cell_type": "code",
      "source": [
        "print(data)"
      ],
      "metadata": {
        "colab": {
          "base_uri": "https://localhost:8080/"
        },
        "id": "_e4ZaSyOBkin",
        "outputId": "97faf63f-6a08-4344-89c6-a5913b833cea"
      },
      "execution_count": null,
      "outputs": [
        {
          "output_type": "stream",
          "name": "stdout",
          "text": [
            "tensor([0.6870, 0.8226, 0.2951, 0.8905, 0.0606, 0.6356, 0.0887, 0.6616, 0.6878,\n",
            "        0.7694, 0.5253, 0.8086, 0.7204, 0.7255, 0.3547, 0.2564, 0.6180, 0.4643,\n",
            "        0.3241, 0.6816, 0.2861, 0.0785, 0.1117, 0.9877, 0.0549, 0.0063, 0.6155,\n",
            "        0.9612, 0.9619, 0.6708])\n"
          ]
        }
      ]
    },
    {
      "cell_type": "code",
      "execution_count": null,
      "metadata": {
        "id": "hd44cXTX3E8f"
      },
      "outputs": [],
      "source": [
        "#set init here: 'Gaussian', 'orthogonal', or 'mixed0' currently supported\n",
        "init = 'mixed0'\n",
        "\n",
        "#set activation here\n",
        "actkey = 'tanh'\n",
        "\n",
        "#set learning rates here\n",
        "lambdabtilde = 1.0\n",
        "lambdaWtilde = 1.0\n",
        "\n",
        "measurePQ = False\n",
        "measureRSTU = False\n",
        "\n",
        "NSample = 1000"
      ]
    },
    {
      "cell_type": "code",
      "execution_count": null,
      "metadata": {
        "id": "UUTVm6dJ8IOk"
      },
      "outputs": [],
      "source": [
        "# zs, Hhats, dHhats, RSTUDict = CollectAllCorrelators(data,NSample=NSample,depth=depth,width=width,inputwidth=inputwidth,init=init,actkey=actkey,lambdabtilde=lambdabtilde,\n",
        "#                       lambdaWtilde=lambdaWtilde,measurePQ=measurePQ,measureRSTU=measureRSTU)\n",
        "\n",
        "zs, Hhats = CollectAllCorrelators(data,NSample=NSample,depth=depth,width=width,inputwidth=inputwidth,init=init,actkey=actkey,lambdabtilde=lambdabtilde,\n",
        "                       lambdaWtilde=lambdaWtilde,measurePQ=measurePQ,measureRSTU=measureRSTU)"
      ]
    },
    {
      "cell_type": "code",
      "source": [
        "Kmeas = MeasureK(zs)\n",
        "Vmeas = MeasureV(zs)\n",
        "VoverK2=Vmeas/(Kmeas**2)"
      ],
      "metadata": {
        "id": "y7-qjjOsslvg",
        "colab": {
          "base_uri": "https://localhost:8080/"
        },
        "outputId": "49fed42c-278a-433b-f2cf-fb4ca28be4d4"
      },
      "execution_count": null,
      "outputs": [
        {
          "output_type": "stream",
          "name": "stderr",
          "text": [
            "<ipython-input-14-5bffd92b3efc>:3: RuntimeWarning: invalid value encountered in divide\n",
            "  VoverK2=Vmeas/(Kmeas**2)\n"
          ]
        }
      ]
    },
    {
      "cell_type": "code",
      "source": [
        "print(VoverK2)"
      ],
      "metadata": {
        "colab": {
          "base_uri": "https://localhost:8080/"
        },
        "id": "Q6LwuYH4pq1l",
        "outputId": "dcff5c8f-6c06-43a1-93bf-07819432db2b"
      },
      "execution_count": null,
      "outputs": [
        {
          "output_type": "stream",
          "name": "stdout",
          "text": [
            "[       nan 0.15902364 0.6411989  1.0693535  1.8547701  2.720719  ]\n"
          ]
        }
      ]
    },
    {
      "cell_type": "code",
      "source": [
        "plt.scatter(range(1,depth),VoverK2[1:])\n",
        "#plt.scatter(range(1,depth),VmeasTanh[1:]/(KmeasTanh[1:]**2),label='tanh')\n",
        "#plt.plot(range(1,depth),75*np.arange(1,depth)**2)\n",
        "plt.xlabel('hidden layer')\n",
        "#plt.ylabel('V6/K^3')\n",
        "#plt.legend(loc='best')"
      ],
      "metadata": {
        "colab": {
          "base_uri": "https://localhost:8080/",
          "height": 466
        },
        "id": "FDjO3pU7tvot",
        "outputId": "ae72d587-5261-4d85-e66a-3def1b0cf72e"
      },
      "execution_count": null,
      "outputs": [
        {
          "output_type": "execute_result",
          "data": {
            "text/plain": [
              "Text(0.5, 0, 'hidden layer')"
            ]
          },
          "metadata": {},
          "execution_count": 16
        },
        {
          "output_type": "display_data",
          "data": {
            "text/plain": [
              "<Figure size 640x480 with 1 Axes>"
            ],
            "image/png": "[encoded data removed]"
          },
          "metadata": {}
        }
      ]
    },
    {
      "cell_type": "code",
      "source": [
        "nL=10\n",
        "n=30\n",
        "m1=m2=nL/2\n",
        "print((m1*m2/8)*(VoverK2[1:]/n)**2 - (m1*m2*(20+3*m1+3*m2)/48)*(VoverK2[1:]/n)**3)\n",
        "print(4/(20+3*nL)*(3/2)*n)"
      ],
      "metadata": {
        "colab": {
          "base_uri": "https://localhost:8080/"
        },
        "id": "i5rJtCgX4ywJ",
        "outputId": "3d61cf91-3dc2-4fae-d8e8-fec752a4c131"
      },
      "execution_count": null,
      "outputs": [
        {
          "output_type": "stream",
          "name": "stdout",
          "text": [
            "[ 1.37395564e-05  5.51398238e-03 -1.09733231e-02 -1.08653605e-01\n",
            " -5.15109777e-01 -1.78969836e+00 -4.22813416e+00 -7.61352634e+00\n",
            " -1.35746822e+01]\n",
            "3.5999999999999996\n"
          ]
        }
      ]
    },
    {
      "cell_type": "code",
      "source": [
        "nL = 10\n",
        "for i in range(10):\n",
        "  m1 = i\n",
        "  m2 = nL-i\n",
        "  print((m1*m2/8)*(VoverK2[1:]/n)**2 - (m1*m2*(20+3*m1+3*m2)/48)*(VoverK2[1:]/n)**3)"
      ],
      "metadata": {
        "colab": {
          "base_uri": "https://localhost:8080/"
        },
        "id": "JWWL3kCD5gUm",
        "outputId": "897a57d1-43bc-4739-ba3e-0697f802ed45"
      },
      "execution_count": null,
      "outputs": [
        {
          "output_type": "stream",
          "name": "stdout",
          "text": [
            "[0. 0. 0. 0. 0. 0. 0. 0. 0.]\n",
            "[0.0066756  0.00600635 0.00581545 0.00572067 0.00566092 0.00577603\n",
            " 0.00574287 0.00589816 0.00580278]\n",
            "[0.01186773 0.01067795 0.01033858 0.01017007 0.01006387 0.01026849\n",
            " 0.01020954 0.01048562 0.01031606]\n",
            "[0.0155764  0.01401481 0.01356939 0.01334822 0.01320882 0.0134774\n",
            " 0.01340003 0.01376237 0.01353983]\n",
            "[0.0178016  0.01601693 0.01550787 0.01525511 0.0150958  0.01540274\n",
            " 0.01531431 0.01572843 0.01547409]\n",
            "[0.01854333 0.0166843  0.01615403 0.01589074 0.01572479 0.01604452\n",
            " 0.01595241 0.01638377 0.01611885]\n",
            "[0.0178016  0.01601693 0.01550787 0.01525511 0.0150958  0.01540274\n",
            " 0.01531431 0.01572843 0.01547409]\n",
            "[0.0155764  0.01401481 0.01356939 0.01334822 0.01320882 0.0134774\n",
            " 0.01340003 0.01376237 0.01353983]\n",
            "[0.01186773 0.01067795 0.01033858 0.01017007 0.01006387 0.01026849\n",
            " 0.01020954 0.01048562 0.01031606]\n",
            "[0.0066756  0.00600635 0.00581545 0.00572067 0.00566092 0.00577603\n",
            " 0.00574287 0.00589816 0.00580278]\n"
          ]
        }
      ]
    },
    {
      "cell_type": "code",
      "source": [
        "print(V6meas[1:]/Kmeas[1:]**3)\n",
        "print(12*(depth/width)**3)"
      ],
      "metadata": {
        "colab": {
          "base_uri": "https://localhost:8080/"
        },
        "id": "a8mPITfhssEG",
        "outputId": "58187d2c-03ae-40f2-a32f-33d02f9690b5"
      },
      "execution_count": null,
      "outputs": [
        {
          "output_type": "stream",
          "name": "stdout",
          "text": [
            "[-2.0425849e-01  1.0807160e+01  3.1424135e+01  9.1365982e+01\n",
            "  1.8434288e+02  3.8666565e+02  5.6295294e+02  1.0257189e+03\n",
            "  1.2096790e+03]\n",
            "0.09600000000000003\n"
          ]
        }
      ]
    },
    {
      "cell_type": "code",
      "execution_count": null,
      "metadata": {
        "colab": {
          "base_uri": "https://localhost:8080/"
        },
        "id": "jUmmz9Vu8q8L",
        "outputId": "d5a28def-fbd4-42ad-d24c-fd704e8cdec4"
      },
      "outputs": [
        {
          "output_type": "stream",
          "name": "stdout",
          "text": [
            "[0.         0.37347305 0.22917451 0.16388771 0.12721027 0.10375277\n",
            " 0.08748235 0.07545076 0.06639196 0.05921904]\n",
            "[ 0.          0.01723843 -0.04953323 -0.03374029 -0.02308522 -0.01644885\n",
            " -0.01242359 -0.0093032  -0.00744004 -0.0058918 ]\n"
          ]
        }
      ],
      "source": [
        "Kmeas = MeasureK(zs)\n",
        "Vmeas = MeasureV(zs)\n",
        "#Thetameas = MeasureTheta(Hhats)\n",
        "#Ameas = MeasureA(Hhats)\n",
        "#Bmeas = MeasureB(Hhats)\n",
        "#Dmeas = MeasureD(zs,Hhats)\n",
        "#Fmeas = MeasureF(zs,Hhats)\n",
        "if measurePQ:\n",
        "  Pmeas = MeasureP(zs,dHhats)\n",
        "  Qmeas = MeasureQ(zs,dHhats)\n",
        "\n",
        "print(Kmeas)\n",
        "print(Vmeas)\n",
        "#print(Thetameas)\n",
        "#print(Ameas)\n",
        "#print(Bmeas)\n",
        "#print(Dmeas)\n",
        "#print(Fmeas)\n",
        "if measurePQ:\n",
        "  print(Pmeas)\n",
        "  print(Qmeas)\n",
        "if measureRSTU:\n",
        "  print(RSTUDict['R'])\n",
        "  print(RSTUDict['S'])\n",
        "  print(RSTUDict['T'])\n",
        "  print(RSTUDict['U'])"
      ]
    },
    {
      "cell_type": "code",
      "source": [
        "#save data\n",
        "CorrDict = {'K':Kmeas},#'Theta':Thetameas,'A':Ameas,'B':Bmeas,'D':Dmeas,'F':Fmeas}#,'P':Pmeas,'Q':Qmeas,'R':RSTUDict['R'],'S':RSTUDict['S'],'T':RSTUDict['T'],'U':RSTUDict['U']}\n",
        "with open('CorrDict_'+init+'W'+str(width)+'D'+str(depth)+'.pkl', 'wb') as file:\n",
        "    pickle.dump(CorrDict, file)"
      ],
      "metadata": {
        "id": "RSpmLTcUioP4"
      },
      "execution_count": null,
      "outputs": []
    },
    {
      "cell_type": "code",
      "execution_count": null,
      "metadata": {
        "colab": {
          "base_uri": "https://localhost:8080/"
        },
        "id": "Own-l6jD8vOJ",
        "outputId": "99f4a1d6-0404-47a7-86b8-59a1f6904962"
      },
      "outputs": [
        {
          "output_type": "stream",
          "name": "stdout",
          "text": [
            "{'K': array([0.        , 0.5       , 0.25      , 0.16666667, 0.125     ,\n",
            "       0.1       , 0.08333333, 0.07142857, 0.0625    , 0.05555556]), 'V': array([0.        , 0.16666667, 0.08333333, 0.05555556, 0.04166667,\n",
            "       0.03333333, 0.02777778, 0.02380952, 0.02083333, 0.01851852]), 'Theta': array([0. , 1.5, 1.5, 1.5, 1.5, 1.5, 1.5, 1.5, 1.5, 1.5]), 'A': array([0.        , 0.14814815, 0.2962963 , 0.44444444, 0.59259259,\n",
            "       0.74074074, 0.88888889, 1.03703704, 1.18518519, 1.33333333]), 'B': array([0.  , 0.75, 1.5 , 2.25, 3.  , 3.75, 4.5 , 5.25, 6.  , 6.75]), 'D': array([ 0.        , -0.11111111, -0.11111111, -0.11111111, -0.11111111,\n",
            "       -0.11111111, -0.11111111, -0.11111111, -0.11111111, -0.11111111]), 'F': array([0.    , 0.1875, 0.1875, 0.1875, 0.1875, 0.1875, 0.1875, 0.1875,\n",
            "       0.1875, 0.1875]), 'P': array([ 0.    ,  0.    , -0.375 , -0.5625, -0.75  , -0.9375, -1.125 ,\n",
            "       -1.3125, -1.5   , -1.6875]), 'Q': array([ 0.     ,  0.     , -0.1875 , -0.28125, -0.375  , -0.46875,\n",
            "       -0.5625 , -0.65625, -0.75   , -0.84375]), 'R': array([  0.     ,   0.     ,  -1.875  ,  -4.21875,  -7.5    , -11.71875,\n",
            "       -16.875  , -22.96875, -30.     , -37.96875]), 'S': array([ 0.    ,  0.    ,  0.75  ,  1.6875,  3.    ,  4.6875,  6.75  ,\n",
            "        9.1875, 12.    , 15.1875]), 'T': array([0.     , 0.     , 0.375  , 0.84375, 1.5    , 2.34375, 3.375  ,\n",
            "       4.59375, 6.     , 7.59375]), 'U': array([0.   , 0.   , 3.375, 3.375, 3.375, 3.375, 3.375, 3.375, 3.375,\n",
            "       3.375])}\n"
          ]
        }
      ],
      "source": [
        "theorydict = GetTheoryVals(data, depth = depth, actkey = actkey,lambdab = lambdabtilde, lambdaW = lambdaWtilde)\n",
        "Kthy = theorydict['K']\n",
        "Vthy = theorydict['V']\n",
        "#Thetathy = theorydict['Theta']\n",
        "#Athy = theorydict['A']\n",
        "#Bthy = theorydict['B']\n",
        "#Dthy = theorydict['D']\n",
        "#Fthy = theorydict['F']\n",
        "if measurePQ:\n",
        "  Pthy = theorydict['P']\n",
        "  Qthy = theorydict['Q']\n",
        "if measureRSTU:\n",
        "  Rthy = theorydict['R']\n",
        "  Sthy = theorydict['S']\n",
        "  Tthy = theorydict['T']\n",
        "  Uthy = theorydict['U']\n",
        "print(theorydict)"
      ]
    },
    {
      "cell_type": "code",
      "source": [
        "plt.scatter(range(1,depth),Vmeas[1:]/(Kmeas[1:]**2),label=r'\\tilde{V} (mixed init)', color='red')\n",
        "plt.legend(loc='upper right')\n",
        "#plt.plot(range(1,depth),Vthy[1:]/(Kthy[1:]**2), color = 'red')"
      ],
      "metadata": {
        "colab": {
          "base_uri": "https://localhost:8080/",
          "height": 447
        },
        "id": "FGMkIuyJWalq",
        "outputId": "37f4bd67-a653-4050-a341-de14b04ccf00"
      },
      "execution_count": null,
      "outputs": [
        {
          "output_type": "execute_result",
          "data": {
            "text/plain": [
              "<matplotlib.legend.Legend at 0x79d95cc43150>"
            ]
          },
          "metadata": {},
          "execution_count": 41
        },
        {
          "output_type": "display_data",
          "data": {
            "text/plain": [
              "<Figure size 640x480 with 1 Axes>"
            ],
            "image/png": "[encoded data removed]"
          },
          "metadata": {}
        }
      ]
    },
    {
      "cell_type": "code",
      "execution_count": null,
      "metadata": {
        "colab": {
          "base_uri": "https://localhost:8080/",
          "height": 447
        },
        "id": "VgQH45tyGV6i",
        "outputId": "b37096a5-fa08-41da-a29a-e4150a21a031"
      },
      "outputs": [
        {
          "output_type": "execute_result",
          "data": {
            "text/plain": [
              "<matplotlib.legend.Legend at 0x7b45ac73ac80>"
            ]
          },
          "metadata": {},
          "execution_count": 28
        },
        {
          "output_type": "display_data",
          "data": {
            "text/plain": [
              "<Figure size 640x480 with 1 Axes>"
            ],
            "image/png": "[encoded data removed]"
          },
          "metadata": {}
        }
      ],
      "source": [
        "plt.scatter(range(1,depth),Ameas[1:]/(Thetameas[1:]**2),label=r'\\tilde{A}', color='red')\n",
        "#plt.plot(range(1,depth),Athy[1:]/(Thetathy[1:]**2), color = 'red')\n",
        "\n",
        "plt.scatter(range(1,depth),Bmeas[1:]/(Thetameas[1:]**2),label=r'\\tilde{B}', color = 'green')\n",
        "#plt.plot(range(1,depth),Bthy[1:]/(Thetathy[1:]**2), color = 'green')\n",
        "\n",
        "plt.scatter(range(1,depth),Dmeas[1:]/(Thetameas[1:]*Kmeas[1:]),label=r'\\tilde{D}', color = 'blue')\n",
        "#plt.plot(range(1,depth),Dthy[1:]/(Thetathy[1:]*Kthy[1:]), color = 'blue')\n",
        "\n",
        "plt.scatter(range(1,depth),Fmeas[1:]/(Thetameas[1:]*Kmeas[1:]),label=r'\\tilde{F}', color = 'orange')\n",
        "#plt.plot(range(1,depth),Fthy[1:]/(Thetathy[1:]*Kthy[1:]), color = 'orange')\n",
        "\n",
        "plt.legend(loc='lower left')"
      ]
    },
    {
      "cell_type": "code",
      "execution_count": null,
      "metadata": {
        "colab": {
          "base_uri": "https://localhost:8080/",
          "height": 447
        },
        "id": "JdBA-y8LjV5V",
        "outputId": "985af4cd-ff46-4cce-e694-27ba3ab2e609"
      },
      "outputs": [
        {
          "output_type": "execute_result",
          "data": {
            "text/plain": [
              "<matplotlib.legend.Legend at 0x7e95581b8d90>"
            ]
          },
          "metadata": {},
          "execution_count": 16
        },
        {
          "output_type": "display_data",
          "data": {
            "text/plain": [
              "<Figure size 640x480 with 1 Axes>"
            ],
            "image/png": "[encoded data removed]"
          },
          "metadata": {}
        }
      ],
      "source": [
        "plt.scatter(range(1,depth),Pmeas[1:]/(Thetameas[1:]**2),label=r'\\tilde{P}', color='brown')\n",
        "#plt.plot(range(1,depth),Pthy[1:]/(Thetathy[1:]**2), color='brown')\n",
        "\n",
        "plt.scatter(range(1,depth),Qmeas[1:]/(Thetameas[1:]**2),label=r'\\tilde{Q}',color='purple')\n",
        "#plt.plot(range(1,depth),Qthy[1:]/(Thetathy[1:]**2),color='purple')\n",
        "\n",
        "plt.legend(loc='lower left')"
      ]
    },
    {
      "cell_type": "code",
      "execution_count": null,
      "metadata": {
        "colab": {
          "base_uri": "https://localhost:8080/",
          "height": 447
        },
        "id": "lnDSraw5FJrv",
        "outputId": "c21cce83-f996-4103-eda4-9fba4e36207d"
      },
      "outputs": [
        {
          "output_type": "execute_result",
          "data": {
            "text/plain": [
              "<matplotlib.legend.Legend at 0x7e95580678b0>"
            ]
          },
          "metadata": {},
          "execution_count": 18
        },
        {
          "output_type": "display_data",
          "data": {
            "text/plain": [
              "<Figure size 640x480 with 1 Axes>"
            ],
            "image/png": "[encoded data removed]"
          },
          "metadata": {}
        }
      ],
      "source": [
        "plt.scatter(range(1,depth),RSTUDict['R'][1:]*Kmeas[1:]/(Thetameas[1:]**3),label=r'\\tilde{R}')\n",
        "#plt.plot(range(1,depth),Rthy[1:]*Kthy[1:]/(Thetathy[1:]**3))\n",
        "\n",
        "plt.scatter(range(1,depth),RSTUDict['S'][1:]*Kmeas[1:]/(Thetameas[1:]**3),label=r'\\tilde{S}')\n",
        "#plt.plot(range(1,depth),Sthy[1:]*Kthy[1:]/(Thetathy[1:]**3))\n",
        "\n",
        "plt.scatter(range(1,depth),RSTUDict['T'][1:]*Kmeas[1:]/(Thetameas[1:]**3),label=r'\\tilde{T}')\n",
        "#plt.plot(range(1,depth),Tthy[1:]*Kthy[1:]/(Thetathy[1:]**3))\n",
        "\n",
        "plt.scatter(range(1,depth),RSTUDict['U'][1:]*Kmeas[1:]/(Thetameas[1:]**3),label=r'\\tilde{U}')\n",
        "#plt.plot(range(1,depth),Uthy[1:]*Kthy[1:]/(Thetathy[1:]**3))\n",
        "\n",
        "\n",
        "plt.legend(loc='lower left')"
      ]
    },
    {
      "cell_type": "code",
      "execution_count": null,
      "metadata": {
        "colab": {
          "base_uri": "https://localhost:8080/",
          "height": 489
        },
        "id": "FBbgysiilUIJ",
        "outputId": "59012731-8037-4ab6-f044-7804a6ceab3c"
      },
      "outputs": [
        {
          "output_type": "execute_result",
          "data": {
            "text/plain": [
              "<matplotlib.legend.Legend at 0x7e955b3c3f10>"
            ]
          },
          "metadata": {},
          "execution_count": 67
        },
        {
          "output_type": "display_data",
          "data": {
            "text/plain": [
              "<Figure size 640x480 with 1 Axes>"
            ],
            "image/png": "[encoded data removed]"
          },
          "metadata": {}
        }
      ],
      "source": [
        "#try everything on one plot\n",
        "\n",
        "plt.scatter(range(1,depth),Ameas[1:]/(Thetameas[1:]**2),label=r'\\tilde{A}')\n",
        "\n",
        "plt.scatter(range(1,depth),Bmeas[1:]/(Thetameas[1:]**2),label=r'\\tilde{B}')\n",
        "\n",
        "plt.scatter(range(1,depth),Dmeas[1:]/(Thetameas[1:]*Kmeas[1:]),label=r'\\tilde{D}')\n",
        "\n",
        "plt.scatter(range(1,depth),Fmeas[1:]/(Thetameas[1:]*Kmeas[1:]),label=r'\\tilde{F}')\n",
        "\n",
        "plt.scatter(range(1,depth),Pmeas[1:]/(Thetameas[1:]**2),label=r'\\tilde{P}')\n",
        "\n",
        "plt.scatter(range(1,depth),Qmeas[1:]/(Thetameas[1:]**2),label=r'\\tilde{Q}')\n",
        "\n",
        "plt.scatter(range(1,depth),RSTUDict['R'][1:]*Kmeas[1:]/(Thetameas[1:]**3),label=r'\\tilde{R}')\n",
        "\n",
        "plt.scatter(range(1,depth),RSTUDict['S'][1:]*Kmeas[1:]/(Thetameas[1:]**3),label=r'\\tilde{S}')\n",
        "\n",
        "plt.scatter(range(1,depth),RSTUDict['T'][1:]*Kmeas[1:]/(Thetameas[1:]**3),label=r'\\tilde{T}')\n",
        "\n",
        "plt.scatter(range(1,depth),RSTUDict['U'][1:]*Kmeas[1:]/(Thetameas[1:]**3),label=r'\\tilde{U}')\n",
        "\n",
        "plt.title('NTK correlators, '+init+' weights, width ' +str(width))\n",
        "plt.xlabel('Hidden layer')\n",
        "plt.ylabel('Normalized correlator')\n",
        "plt.legend(loc='lower left')"
      ]
    },
    {
      "cell_type": "code",
      "execution_count": null,
      "metadata": {
        "colab": {
          "base_uri": "https://localhost:8080/",
          "height": 450
        },
        "id": "TS2MA92Of3GQ",
        "outputId": "a68488ff-4462-467a-bac1-d80c3935031c"
      },
      "outputs": [
        {
          "data": {
            "text/plain": [
              "<matplotlib.legend.Legend at 0x796df0343490>"
            ]
          },
          "execution_count": 11,
          "metadata": {},
          "output_type": "execute_result"
        },
        {
          "data": {
            "image/png": "[encoded data removed]",
            "text/plain": [
              "<Figure size 640x480 with 1 Axes>"
            ]
          },
          "metadata": {},
          "output_type": "display_data"
        }
      ],
      "source": [
        "plt.scatter(range(1,depth),Vmeas[1:]/(Kmeas[1:]**2),label=r'\\tilde{V}')\n",
        "#plt.plot(range(1,depth),Vthy[1:]/(Kthy[1:]**2))\n",
        "#plt.plot(range(1,depth),[3*l-5 for l in range(1,depth)])\n",
        "plt.legend(loc='lower left')"
      ]
    },
    {
      "cell_type": "code",
      "execution_count": null,
      "metadata": {
        "colab": {
          "base_uri": "https://localhost:8080/",
          "height": 447
        },
        "id": "t4js3jl4z5n5",
        "outputId": "494c1cbb-c872-4008-b88b-f043d9cc86cf"
      },
      "outputs": [
        {
          "data": {
            "text/plain": [
              "[<matplotlib.lines.Line2D at 0x796dc0496350>]"
            ]
          },
          "execution_count": 14,
          "metadata": {},
          "output_type": "execute_result"
        },
        {
          "data": {
            "image/png": "[encoded data removed]",
            "text/plain": [
              "<Figure size 640x480 with 1 Axes>"
            ]
          },
          "metadata": {},
          "output_type": "display_data"
        }
      ],
      "source": [
        "plt.scatter(range(1,depth),Kmeas[1:],label=r'\\tilde{K}')\n",
        "plt.plot(range(1,depth),Kthy[1:])"
      ]
    },
    {
      "cell_type": "code",
      "execution_count": null,
      "metadata": {
        "colab": {
          "base_uri": "https://localhost:8080/",
          "height": 447
        },
        "id": "zj5jk5RT0VHf",
        "outputId": "e749fa10-23e5-457f-d872-17e47ebdea86"
      },
      "outputs": [
        {
          "data": {
            "text/plain": [
              "[<matplotlib.lines.Line2D at 0x7ff2d0db3e20>]"
            ]
          },
          "execution_count": 22,
          "metadata": {},
          "output_type": "execute_result"
        },
        {
          "data": {
            "image/png": "[encoded data removed]",
            "text/plain": [
              "<Figure size 640x480 with 1 Axes>"
            ]
          },
          "metadata": {},
          "output_type": "display_data"
        }
      ],
      "source": [
        "plt.scatter(range(1,depth),Thetameas[1:],label=r'\\tilde{Theta}')\n",
        "plt.plot(range(1,depth),Thetathy[1:])"
      ]
    },
    {
      "cell_type": "code",
      "execution_count": null,
      "metadata": {
        "colab": {
          "base_uri": "https://localhost:8080/",
          "height": 447
        },
        "id": "-99FWx827yIU",
        "outputId": "4cf6cb45-9e89-478a-f5a4-423bdefb8bd0"
      },
      "outputs": [
        {
          "data": {
            "text/plain": [
              "<matplotlib.legend.Legend at 0x7f423b6bcd90>"
            ]
          },
          "execution_count": 14,
          "metadata": {},
          "output_type": "execute_result"
        },
        {
          "data": {
            "image/png": "[encoded data removed]",
            "text/plain": [
              "<Figure size 640x480 with 1 Axes>"
            ]
          },
          "metadata": {},
          "output_type": "display_data"
        }
      ],
      "source": [
        "plt.scatter(range(1,depth),Ameas[1:],label='A')\n",
        "#plt.plot(range(1,depth),Athy[1:])\n",
        "\n",
        "plt.scatter(range(1,depth),Bmeas[1:],label='B')\n",
        "#plt.plot(range(1,depth),Bthy[1:])\n",
        "\n",
        "plt.legend(loc = 'upper left')"
      ]
    },
    {
      "cell_type": "code",
      "execution_count": null,
      "metadata": {
        "colab": {
          "base_uri": "https://localhost:8080/",
          "height": 447
        },
        "id": "u5YuDaAQ5GBQ",
        "outputId": "c44e5a4c-2633-47b6-abe4-b50fdf50b8e4"
      },
      "outputs": [
        {
          "data": {
            "text/plain": [
              "<matplotlib.legend.Legend at 0x7f423b36fa60>"
            ]
          },
          "execution_count": 16,
          "metadata": {},
          "output_type": "execute_result"
        },
        {
          "data": {
            "image/png": "[encoded data removed]",
            "text/plain": [
              "<Figure size 640x480 with 1 Axes>"
            ]
          },
          "metadata": {},
          "output_type": "display_data"
        }
      ],
      "source": [
        "plt.scatter(range(1,depth),Dmeas[1:],label='D')\n",
        "#plt.plot(range(1,depth),Dthy[1:])\n",
        "\n",
        "plt.scatter(range(1,depth),Fmeas[1:],label=r'F')\n",
        "#plt.plot(range(1,depth),Fthy[1:])\n",
        "\n",
        "plt.legend(loc='upper left')"
      ]
    },
    {
      "cell_type": "markdown",
      "metadata": {
        "id": "GaPT81OS9n3x"
      },
      "source": [
        "# Multi-input measurements"
      ]
    },
    {
      "cell_type": "code",
      "execution_count": null,
      "metadata": {
        "colab": {
          "base_uri": "https://localhost:8080/"
        },
        "id": "A4ibLQc2q0XS",
        "outputId": "d0ad4cf6-cada-4813-93bd-964814a05169"
      },
      "outputs": [
        {
          "name": "stdout",
          "output_type": "stream",
          "text": [
            "Downloading http://yann.lecun.com/exdb/mnist/train-images-idx3-ubyte.gz\n",
            "Downloading http://yann.lecun.com/exdb/mnist/train-images-idx3-ubyte.gz to /files/MNIST/raw/train-images-idx3-ubyte.gz\n"
          ]
        },
        {
          "name": "stderr",
          "output_type": "stream",
          "text": [
            "100%|██████████| 9912422/9912422 [00:00<00:00, 83193518.41it/s]\n"
          ]
        },
        {
          "name": "stdout",
          "output_type": "stream",
          "text": [
            "Extracting /files/MNIST/raw/train-images-idx3-ubyte.gz to /files/MNIST/raw\n",
            "\n",
            "Downloading http://yann.lecun.com/exdb/mnist/train-labels-idx1-ubyte.gz\n",
            "Downloading http://yann.lecun.com/exdb/mnist/train-labels-idx1-ubyte.gz to /files/MNIST/raw/train-labels-idx1-ubyte.gz\n"
          ]
        },
        {
          "name": "stderr",
          "output_type": "stream",
          "text": [
            "100%|██████████| 28881/28881 [00:00<00:00, 72885495.68it/s]"
          ]
        },
        {
          "name": "stdout",
          "output_type": "stream",
          "text": [
            "Extracting /files/MNIST/raw/train-labels-idx1-ubyte.gz to /files/MNIST/raw\n",
            "\n",
            "Downloading http://yann.lecun.com/exdb/mnist/t10k-images-idx3-ubyte.gz\n",
            "Downloading http://yann.lecun.com/exdb/mnist/t10k-images-idx3-ubyte.gz to /files/MNIST/raw/t10k-images-idx3-ubyte.gz\n"
          ]
        },
        {
          "name": "stderr",
          "output_type": "stream",
          "text": [
            "\n",
            "100%|██████████| 1648877/1648877 [00:00<00:00, 21319878.41it/s]\n"
          ]
        },
        {
          "name": "stdout",
          "output_type": "stream",
          "text": [
            "Extracting /files/MNIST/raw/t10k-images-idx3-ubyte.gz to /files/MNIST/raw\n",
            "\n",
            "Downloading http://yann.lecun.com/exdb/mnist/t10k-labels-idx1-ubyte.gz\n",
            "Downloading http://yann.lecun.com/exdb/mnist/t10k-labels-idx1-ubyte.gz to /files/MNIST/raw/t10k-labels-idx1-ubyte.gz\n"
          ]
        },
        {
          "name": "stderr",
          "output_type": "stream",
          "text": [
            "100%|██████████| 4542/4542 [00:00<00:00, 16536917.33it/s]\n"
          ]
        },
        {
          "name": "stdout",
          "output_type": "stream",
          "text": [
            "Extracting /files/MNIST/raw/t10k-labels-idx1-ubyte.gz to /files/MNIST/raw\n",
            "\n"
          ]
        }
      ],
      "source": [
        "MNIST_loader = torch.utils.data.DataLoader(\n",
        "  datasets.MNIST('/files/', train=True, download=True,\n",
        "                             transform=transforms.Compose([\n",
        "                               transforms.ToTensor(),\n",
        "                               transforms.Normalize(\n",
        "                                 (0.1307,), (0.3081,))\n",
        "                             ])),\n",
        "  batch_size=100, shuffle=True)"
      ]
    },
    {
      "cell_type": "code",
      "execution_count": null,
      "metadata": {
        "id": "YPN9q8HsrHHf"
      },
      "outputs": [],
      "source": [
        "examples = enumerate(MNIST_loader)\n",
        "batch_idx, (example_data, example_targets) = next(examples)"
      ]
    },
    {
      "cell_type": "code",
      "execution_count": null,
      "metadata": {
        "colab": {
          "base_uri": "https://localhost:8080/"
        },
        "id": "hC9JZACerNob",
        "outputId": "1958784d-7eba-4f8d-cfde-6ee8ac2c5ce8"
      },
      "outputs": [
        {
          "data": {
            "text/plain": [
              "torch.Size([100, 1, 28, 28])"
            ]
          },
          "execution_count": 9,
          "metadata": {},
          "output_type": "execute_result"
        }
      ],
      "source": [
        "example_data.shape"
      ]
    },
    {
      "cell_type": "code",
      "execution_count": null,
      "metadata": {
        "id": "KMOyXKxWre-b"
      },
      "outputs": [],
      "source": [
        "#find all digit 1's\n",
        "ones_idx=torch.where(example_targets==torch.tensor(1))\n",
        "ones_data=example_data[ones_idx]"
      ]
    },
    {
      "cell_type": "code",
      "execution_count": null,
      "metadata": {
        "colab": {
          "base_uri": "https://localhost:8080/"
        },
        "id": "k9B6j-gWtkLz",
        "outputId": "e1da71a9-61fd-4113-ae3c-d3c109a8d9e0"
      },
      "outputs": [
        {
          "data": {
            "text/plain": [
              "torch.Size([10, 1, 28, 28])"
            ]
          },
          "execution_count": 11,
          "metadata": {},
          "output_type": "execute_result"
        }
      ],
      "source": [
        "ones_data.shape"
      ]
    },
    {
      "cell_type": "code",
      "execution_count": null,
      "metadata": {
        "colab": {
          "base_uri": "https://localhost:8080/",
          "height": 432
        },
        "id": "O56Nvoi8rUpF",
        "outputId": "5f7d03a4-4e90-45c7-b1a2-a630d77345fc"
      },
      "outputs": [
        {
          "data": {
            "image/png": "[encoded data removed]",
            "text/plain": [
              "<Figure size 640x480 with 2 Axes>"
            ]
          },
          "metadata": {},
          "output_type": "display_data"
        }
      ],
      "source": [
        "plt.subplot(211)\n",
        "plt.imshow(ones_data[0][0], cmap='gray', interpolation='none')\n",
        "plt.subplot(212)\n",
        "plt.imshow(ones_data[1][0], cmap='gray', interpolation='none')\n",
        "plt.show()"
      ]
    },
    {
      "cell_type": "code",
      "execution_count": null,
      "metadata": {
        "id": "frfDmRFuosrI"
      },
      "outputs": [],
      "source": [
        "#network architecture\n",
        "depth = 40\n",
        "width = 20\n",
        "#inputwidth = 784\n",
        "inputwidth = width\n",
        "#random input data (single-input)\n",
        "#data = torch.ones(inputwidth)\n",
        "#data1 = torch.flatten(ones_data[0,0,:,:])\n",
        "#data2 = torch.flatten(example_data[0,0,:,:])\n",
        "data1 = torch.Tensor(np.random.rand(inputwidth))\n",
        "data2 = torch.Tensor(np.random.rand(inputwidth))\n",
        "\n",
        "#set init here: 'Gaussian', 'orthogonal', or 'mixed0' currently supported\n",
        "init = 'Gaussian'\n",
        "\n",
        "#set activation here\n",
        "actkey = 'ReLU'\n",
        "\n",
        "#set learning rates here\n",
        "lambdabtilde = 1.0\n",
        "lambdaWtilde = 1.0\n",
        "\n",
        "measurePQ = False\n",
        "measureRSTU = False\n",
        "\n",
        "NSample = 1000"
      ]
    },
    {
      "cell_type": "code",
      "execution_count": null,
      "metadata": {
        "colab": {
          "base_uri": "https://localhost:8080/"
        },
        "id": "HRgP9ZYBRiil",
        "outputId": "065933e9-39d0-4521-9116-a93c3f668d10"
      },
      "outputs": [
        {
          "output_type": "stream",
          "name": "stdout",
          "text": [
            "tensor(0.5229)\n",
            "tensor(0.5584)\n"
          ]
        }
      ],
      "source": [
        "print(torch.mean(data2))\n",
        "print(torch.mean(data1))"
      ]
    },
    {
      "cell_type": "code",
      "execution_count": null,
      "metadata": {
        "colab": {
          "base_uri": "https://localhost:8080/",
          "height": 447
        },
        "id": "x7g4jgo2tcSS",
        "outputId": "21458bd8-6bc8-4eb9-b761-b5013ba07a5f"
      },
      "outputs": [
        {
          "data": {
            "text/plain": [
              "<matplotlib.image.AxesImage at 0x7b286b0094b0>"
            ]
          },
          "execution_count": 19,
          "metadata": {},
          "output_type": "execute_result"
        },
        {
          "data": {
            "image/png": "[encoded data removed]",
            "text/plain": [
              "<Figure size 640x480 with 1 Axes>"
            ]
          },
          "metadata": {},
          "output_type": "display_data"
        }
      ],
      "source": [
        "plt.imshow(data2.reshape((28,28)).detach().numpy(), cmap='gray', interpolation='none')"
      ]
    },
    {
      "cell_type": "code",
      "execution_count": null,
      "metadata": {
        "id": "Cmvf6629p0Wr",
        "colab": {
          "base_uri": "https://localhost:8080/"
        },
        "outputId": "18329a45-56ec-4b37-c0cd-da86a1a50a12"
      },
      "outputs": [
        {
          "output_type": "stream",
          "name": "stderr",
          "text": [
            "<ipython-input-6-28a197365bb9>:6: RuntimeWarning: invalid value encountered in divide\n",
            "  GaussAngle=np.array(MeasureK(zs,zs2=zs2)/np.sqrt(MeasureK(zs)*MeasureK(zs2)))[1:]\n",
            "<ipython-input-6-28a197365bb9>:12: RuntimeWarning: invalid value encountered in divide\n",
            "  OrthoAngle=np.array(MeasureK(zs,zs2=zs2)/np.sqrt(MeasureK(zs)*MeasureK(zs2)))[1:]\n"
          ]
        }
      ],
      "source": [
        "zs, zs2, Hhats, Hhats2 = CollectAllCorrelators(data1,data2=data2,NSample=NSample,depth=depth,width=width,\n",
        "                                               inputwidth=inputwidth,init='Gaussian',actkey=actkey,lambdabtilde=lambdabtilde,\n",
        "                      lambdaWtilde=lambdaWtilde,measurePQ=measurePQ,measureRSTU=measureRSTU)\n",
        "\n",
        "#check Boris's angle thing\n",
        "GaussAngle=np.array(MeasureK(zs,zs2=zs2)/np.sqrt(MeasureK(zs)*MeasureK(zs2)))[1:]\n",
        "\n",
        "zs, zs2, Hhats, Hhats2 = CollectAllCorrelators(data1,data2=data2,NSample=NSample,depth=depth,width=width,\n",
        "                                               inputwidth=inputwidth,init='orthogonal',actkey=actkey,lambdabtilde=lambdabtilde,\n",
        "                      lambdaWtilde=lambdaWtilde,measurePQ=measurePQ,measureRSTU=measureRSTU)\n",
        "\n",
        "OrthoAngle=np.array(MeasureK(zs,zs2=zs2)/np.sqrt(MeasureK(zs)*MeasureK(zs2)))[1:]"
      ]
    },
    {
      "cell_type": "code",
      "source": [
        "print(GaussAngle)\n",
        "print(OrthoAngle)"
      ],
      "metadata": {
        "colab": {
          "base_uri": "https://localhost:8080/"
        },
        "id": "glNYkZ00RXOZ",
        "outputId": "88c1f9aa-3ca8-4985-fc2c-b9a2dc2ef60d"
      },
      "execution_count": null,
      "outputs": [
        {
          "output_type": "stream",
          "name": "stdout",
          "text": [
            "[0.8070232  0.8281759  0.8478944  0.86609465 0.87773854 0.88509506\n",
            " 0.890555   0.8994576  0.8996321  0.90349114 0.9008611  0.90642285\n",
            " 0.9166574  0.9130493  0.91850847 0.9339961  0.9289503  0.9416059\n",
            " 0.9298742  0.9285932  0.9269104  0.9205514  0.91601604 0.91730815\n",
            " 0.9177359  0.9183524  0.9129981  0.9080806  0.9016467  0.9108435\n",
            " 0.91023797 0.90088594 0.90229255 0.9033705  0.9002514  0.90615946\n",
            " 0.9024213  0.8937889  0.89527196]\n",
            "[0.80694014 0.8334834  0.85305274 0.8722396  0.88403493 0.8904208\n",
            " 0.8996248  0.90654004 0.9146211  0.9190405  0.9230388  0.9241459\n",
            " 0.9271421  0.9297718  0.9321827  0.9335987  0.9351424  0.9349807\n",
            " 0.9359842  0.93677056 0.9348156  0.93767303 0.9359952  0.9379044\n",
            " 0.93733835 0.94016576 0.94025964 0.94036484 0.94165    0.9417302\n",
            " 0.9406366  0.9391686  0.9400038  0.9404218  0.9440219  0.9444327\n",
            " 0.94533277 0.94598216 0.9453399 ]\n"
          ]
        }
      ]
    },
    {
      "cell_type": "code",
      "source": [
        "plt.scatter(range(1,depth),GaussAngle,label='Gaussian')\n",
        "plt.scatter(range(1,depth),OrthoAngle,label='Orthogonal')\n",
        "plt.xlabel('Hidden layer')\n",
        "plt.ylabel('Preactivation cosine')\n",
        "plt.title('Width 20, ReLU')\n",
        "plt.legend(loc='lower left')"
      ],
      "metadata": {
        "colab": {
          "base_uri": "https://localhost:8080/",
          "height": 489
        },
        "id": "d8tFK2thQH1W",
        "outputId": "98c0f289-a757-4431-e497-ed69384ffaaa"
      },
      "execution_count": null,
      "outputs": [
        {
          "output_type": "execute_result",
          "data": {
            "text/plain": [
              "<matplotlib.legend.Legend at 0x7dc95414bf10>"
            ]
          },
          "metadata": {},
          "execution_count": 9
        },
        {
          "output_type": "display_data",
          "data": {
            "text/plain": [
              "<Figure size 640x480 with 1 Axes>"
            ],
            "image/png": "[encoded data removed]"
          },
          "metadata": {}
        }
      ]
    },
    {
      "cell_type": "code",
      "execution_count": null,
      "metadata": {
        "colab": {
          "base_uri": "https://localhost:8080/"
        },
        "id": "yEls34ftj-cx",
        "outputId": "d066191d-0a80-4622-89a8-f1fcbb7e96f9"
      },
      "outputs": [
        {
          "name": "stdout",
          "output_type": "stream",
          "text": [
            "[0.         0.8567664  0.36924967 0.22752766 0.1630302  0.12665248\n",
            " 0.10246336 0.08642127 0.07433868 0.06520667]\n",
            "[0.         0.5        0.25       0.16666667 0.125      0.1\n",
            " 0.08333333 0.07142857 0.0625     0.05555556]\n",
            "\n",
            "[0.         0.12050311 0.07300383 0.0584325  0.04035662 0.03699245\n",
            " 0.02766611 0.02425752 0.0224811  0.02195854]\n",
            "[0.         0.16666667 0.08333333 0.05555556 0.04166667 0.03333333\n",
            " 0.02777778 0.02380952 0.02083333 0.01851852]\n"
          ]
        }
      ],
      "source": [
        "Kmeas = MeasureK(zs2)\n",
        "Vmeas = MeasureV(zs2)\n",
        "Thetameas = MeasureTheta(Hhats)\n",
        "Ameas = MeasureA(Hhats)\n",
        "Bmeas = MeasureB(Hhats)\n",
        "Dmeas = MeasureD(zs,Hhats)\n",
        "Fmeas = MeasureF(zs,Hhats)\n",
        "\n",
        "theorydict = GetTheoryVals(data2, depth = depth, actkey = actkey,lambdab = lambdabtilde, lambdaW = lambdaWtilde)\n",
        "Kthy = theorydict['K']\n",
        "Vthy = theorydict['V']\n",
        "Thetathy = theorydict['Theta']\n",
        "Athy = theorydict['A']\n",
        "Bthy = theorydict['B']\n",
        "Dthy = theorydict['D']\n",
        "Fthy = theorydict['F']\n",
        "\n",
        "print(Kmeas)\n",
        "print(Kthy)\n",
        "print(\"\")\n",
        "print(Vmeas)\n",
        "print(Vthy)"
      ]
    },
    {
      "cell_type": "code",
      "execution_count": null,
      "metadata": {
        "colab": {
          "base_uri": "https://localhost:8080/",
          "height": 447
        },
        "id": "8s6eEH9zskdK",
        "outputId": "6ecf28d2-aa54-44a0-dfea-ebda05bc23ba"
      },
      "outputs": [
        {
          "data": {
            "text/plain": [
              "<matplotlib.legend.Legend at 0x7b286e3f3ac0>"
            ]
          },
          "execution_count": 22,
          "metadata": {},
          "output_type": "execute_result"
        },
        {
          "data": {
            "image/png": "[encoded data removed]",
            "text/plain": [
              "<Figure size 640x480 with 1 Axes>"
            ]
          },
          "metadata": {},
          "output_type": "display_data"
        }
      ],
      "source": [
        "plt.scatter(range(1,depth),Vmeas[1:]/(Kmeas[1:]**2),label=r'\\tilde{V}')\n",
        "plt.plot(range(1,depth),Vthy[1:]/(Kthy[1:]**2))\n",
        "plt.legend(loc='lower left')"
      ]
    },
    {
      "cell_type": "code",
      "execution_count": null,
      "metadata": {
        "colab": {
          "base_uri": "https://localhost:8080/",
          "height": 447
        },
        "id": "vxIK0mZPsp12",
        "outputId": "e8781f76-0a2e-4319-ecc1-1a97e546e758"
      },
      "outputs": [
        {
          "data": {
            "text/plain": [
              "<matplotlib.legend.Legend at 0x7b286e3f0f40>"
            ]
          },
          "execution_count": 23,
          "metadata": {},
          "output_type": "execute_result"
        },
        {
          "data": {
            "image/png": "[encoded data removed]",
            "text/plain": [
              "<Figure size 640x480 with 1 Axes>"
            ]
          },
          "metadata": {},
          "output_type": "display_data"
        }
      ],
      "source": [
        "plt.scatter(range(1,depth),Vmeas[1:],label=r'V')\n",
        "plt.plot(range(1,depth),Vthy[1:])\n",
        "plt.legend(loc='lower left')"
      ]
    },
    {
      "cell_type": "code",
      "execution_count": null,
      "metadata": {
        "colab": {
          "base_uri": "https://localhost:8080/",
          "height": 447
        },
        "id": "CnFivsVskOJi",
        "outputId": "1ff412d2-5da7-45c3-d1d6-cf01c3783baf"
      },
      "outputs": [
        {
          "data": {
            "text/plain": [
              "<matplotlib.legend.Legend at 0x7ad0f07de860>"
            ]
          },
          "execution_count": 42,
          "metadata": {},
          "output_type": "execute_result"
        },
        {
          "data": {
            "image/png": "[encoded data removed]",
            "text/plain": [
              "<Figure size 640x480 with 1 Axes>"
            ]
          },
          "metadata": {},
          "output_type": "display_data"
        }
      ],
      "source": [
        "plt.scatter(range(1,depth),Ameas[1:]/(Thetameas[1:]**2),label=r'\\tilde{A}', color='red')\n",
        "plt.plot(range(1,depth),Athy[1:]/(Thetathy[1:]**2) - Athy[1]/(Thetathy[1]**2), color = 'red')\n",
        "\n",
        "plt.scatter(range(1,depth),Bmeas[1:]/(Thetameas[1:]**2),label=r'\\tilde{B}', color = 'green')\n",
        "plt.plot(range(1,depth),Bthy[1:]/(Thetathy[1:]**2)-Bthy[1]/(Thetathy[1]**2), color = 'green')\n",
        "\n",
        "plt.scatter(range(1,depth),Dmeas[1:]/(Thetameas[1:]*Kmeas[1:]),label=r'\\tilde{D}', color = 'blue')\n",
        "plt.plot(range(1,depth),Dthy[1:]/(Thetathy[1:]*Kthy[1:])-Dthy[1]/(Thetathy[1]*Kthy[1]), color = 'blue')\n",
        "\n",
        "plt.scatter(range(1,depth),Fmeas[1:]/(Thetameas[1:]*Kmeas[1:]),label=r'\\tilde{F}', color = 'orange')\n",
        "plt.plot(range(1,depth),Fthy[1:]/(Thetathy[1:]*Kthy[1:]) - Fthy[1]/(Thetathy[1]*Kthy[1]), color = 'orange')\n",
        "\n",
        "plt.legend(loc='lower left')"
      ]
    },
    {
      "cell_type": "code",
      "execution_count": null,
      "metadata": {
        "colab": {
          "base_uri": "https://localhost:8080/"
        },
        "id": "WzbSatHGqaCU",
        "outputId": "b4ae8bf9-d312-4d62-a36b-eb5f042ebe33"
      },
      "outputs": [
        {
          "name": "stdout",
          "output_type": "stream",
          "text": [
            "[0.         0.36577588 0.22546865 0.1622106  0.1257387  0.10254128\n",
            " 0.08593659 0.07448849 0.06505678 0.05777331]\n",
            "[0.         1.1512945  0.423617   0.24733047 0.1741037  0.13325213\n",
            " 0.10723121 0.0891371  0.0761104  0.06698277]\n",
            "[0.         1.1512945  0.423617   0.24733047 0.1741037  0.13325213\n",
            " 0.10723121 0.0891371  0.0761104  0.06698277]\n",
            "[0.         0.24866813 0.01301107 0.00861925 0.00086363 0.00834222\n",
            " 0.00396453 0.00461093 0.00381242 0.0009582 ]\n",
            "[0.        1.3646724 1.6179883 1.6888206 1.7105653 1.7137562 1.7118493\n",
            " 1.7084064 1.7023132 1.6983131]\n",
            "[0.        2.1487112 1.8701617 1.7532105 1.6912948 1.651025  1.6252539\n",
            " 1.607956  1.594876  1.5871366]\n",
            "[0.0000000e+00 1.1652901e-09 1.5203753e-03 1.1761630e-02 2.1514345e-02\n",
            " 4.3623567e-02 4.5849305e-02 9.8647773e-02 1.5634412e-01 1.9804871e-01]\n",
            "[0.        0.        0.8535435 1.7496978 2.6219685 3.4672585 4.301201\n",
            " 5.159635  6.000945  6.868644 ]\n",
            "[ 0.          0.00035809 -0.01227392 -0.00827937  0.0056335   0.00312518\n",
            "  0.00579044  0.00454136  0.00574971  0.00322283]\n",
            "[0.         0.         0.21410872 0.27468884 0.30426586 0.32389554\n",
            " 0.3318737  0.34283587 0.3446436  0.34762734]\n"
          ]
        }
      ],
      "source": [
        "K11 = MeasureK(zs)\n",
        "K22 = MeasureK(zs2)\n",
        "K12 = MeasureK(zs2)\n",
        "V1212 = MeasureV(zs,zs2)\n",
        "Theta11 = MeasureTheta(Hhats)\n",
        "Theta22 = MeasureTheta(Hhats2)\n",
        "Amixed=MeasureA(Hhats,Hhats2)\n",
        "Bmixed=MeasureB(Hhats,Hhats2)\n",
        "Dmixed = MeasureD(zs,Hhats2)\n",
        "Fmixed = MeasureF(zs,Hhats2)\n",
        "\n",
        "print(K11)\n",
        "print(K22)\n",
        "print(K12)\n",
        "print(V1212)\n",
        "print(Theta11)\n",
        "print(Theta22)\n",
        "print(Amixed)\n",
        "print(Bmixed)\n",
        "print(Dmixed)\n",
        "print(Fmixed)"
      ]
    },
    {
      "cell_type": "code",
      "execution_count": null,
      "metadata": {
        "colab": {
          "base_uri": "https://localhost:8080/",
          "height": 447
        },
        "id": "JEDX2VJmq80i",
        "outputId": "186cc654-82e6-4968-c566-33b605a6dc98"
      },
      "outputs": [
        {
          "data": {
            "text/plain": [
              "<matplotlib.legend.Legend at 0x7ad0f0d5bf40>"
            ]
          },
          "execution_count": 19,
          "metadata": {},
          "output_type": "execute_result"
        },
        {
          "data": {
            "image/png": "[encoded data removed]",
            "text/plain": [
              "<Figure size 640x480 with 1 Axes>"
            ]
          },
          "metadata": {},
          "output_type": "display_data"
        }
      ],
      "source": [
        "plt.scatter(range(1,depth),Amixed[1:]/(Theta11[1:]*Theta22[1:]),label=r'\\tilde{A}', color='red')\n",
        "\n",
        "plt.scatter(range(1,depth),Bmixed[1:]/(Theta11[1:]*Theta22[1:]),label=r'\\tilde{B}', color = 'green')\n",
        "\n",
        "plt.scatter(range(1,depth),Dmixed[1:]/(K11[1:]*Theta22[1:]),label=r'\\tilde{D}', color = 'blue')\n",
        "\n",
        "plt.scatter(range(1,depth),Fmixed[1:]/(K11[1:]*Theta22[1:]),label=r'\\tilde{F}', color = 'orange')\n",
        "\n",
        "plt.legend(loc='lower left')"
      ]
    },
    {
      "cell_type": "markdown",
      "metadata": {
        "id": "gZu-8UsPRI9S"
      },
      "source": [
        "general multi-input: just make this a separate function, which should reduce to the single-input one when the two inputs are identical"
      ]
    },
    {
      "cell_type": "code",
      "execution_count": null,
      "metadata": {
        "id": "TrOjHH8tRaga"
      },
      "outputs": [],
      "source": [
        "def CollectAllCorrelatorsTwoInput(data1,data2,NSample=1000,depth=10,width=30,inputwidth=30,init='Gaussian',actkey='tanh',\n",
        "                                  lambdabtilde=1.0,lambdaWtilde=1.0,measurePQ=False,measureRSTU=False):\n",
        "\n",
        "  Cb = 0 #all activations have Cb = 0 for criticality\n",
        "  if actkey == 'tanh':\n",
        "    if init =='Gaussian':\n",
        "      CW = 1.0 + 2/(3*width) # NLO tuning\n",
        "    else:\n",
        "      CW = 1.0 # NLO tuning vanishes for orthogonal. Maybe do something clever for mixed inits?\n",
        "    act = torch.tanh\n",
        "  elif actkey == 'linear':\n",
        "    CW = 1.0 # NLO tuning vanishes for scale-invariant\n",
        "    act = lambda x: x\n",
        "  elif actkey == 'ReLU':\n",
        "    CW = 2.0 # NLO tuning vanishes for scale-invariant\n",
        "    act = nn.ReLU()\n",
        "  else:\n",
        "    raise Exception(\"Unsupported choice of activation\")\n",
        "\n",
        "  if actkey == 'tanh':  #bias learning rate is an array that takes into account depth rescaling as appropriate\n",
        "    lambdab_arr = lambdabtilde*np.array([1/max(l,1) for l in range(0,depth)])\n",
        "  else:\n",
        "    lambdab_arr = lambdabtilde*np.ones(depth)\n",
        "\n",
        "  #initialize all arrays for measurement\n",
        "  zs1=torch.zeros((NSample,depth, width)) #NOTE! zeroth entry is a DUMMY ENTRY ONLY because input width might be different\n",
        "  zs2=torch.zeros((NSample,depth, width)) #NOTE! zeroth entry is a DUMMY ENTRY ONLY because input width might be different\n",
        "  Hhats=torch.zeros((NSample,depth,width,width)) #NOTE! zeroth entry is a DUMMY ENTRY ONLY because input width might be different\n",
        "  if measurePQ:\n",
        "    dHhats = torch.zeros((NSample,depth,width,width,width)) #this is the limiting factor for memory!\n",
        "  if measureRSTU:\n",
        "    Rmeas1 = np.zeros(depth)\n",
        "    Rmeas2 = np.zeros(depth)\n",
        "    Rmeas3 = np.zeros(depth)\n",
        "    Smeas = np.zeros(depth)\n",
        "    Tmeas = np.zeros(depth)\n",
        "    Umeas = np.zeros(depth)\n",
        "\n",
        "  #auxiliary stuff we don't need to store\n",
        "  sigmas=torch.zeros((depth,width))\n",
        "  sigmaprs=torch.zeros((depth,width))\n",
        "  sigmapprs=torch.zeros((depth,width))\n",
        "  sigma3prs=torch.zeros((depth,width))\n",
        "\n",
        "  for sample in range(NSample):\n",
        "  #  if sample % 2 ==0: print(sample)\n",
        "    mynet=MLP(activation=act,d=data.shape[0],n=width,nL=width,L=depth,cw=CW,weightinit=init)\n",
        "\n",
        "    #initialize dictionary to call network layers\n",
        "    layerdict_ = {}\n",
        "    for i, fc in enumerate(mynet.fcs):\n",
        "      layerdict_['layer%s' % i]  = fc #NOTE! layer fcl contains W^(l+1)\n",
        "    _, zlist = mynet.forward(data)\n",
        "\n",
        "    #get preactivations and activations/derivatives\n",
        "    for l in range(1,depth): #leave everything at layer zero as zero\n",
        "      zs[sample,l] = zlist[l]\n",
        "      sigmas[l] = act(zs[sample,l])\n",
        "      sigmaprs[l] = dact(actkey,zs[sample,l])\n",
        "      if measurePQ:\n",
        "        sigmapprs[l] = ddact(actkey,zs[sample,l])\n",
        "      if measureRSTU:\n",
        "        sigma3prs[l] = d3act(actkey,zs[sample,l])\n",
        "\n",
        "    #initial conditions for H recursion at layer 1 (8.23)\n",
        "    Hhats[sample,1] = torch.eye(width)*(lambdab_arr[1] + (lambdaWtilde/inputwidth)*torch.sum(data**2)) #note that normalization is by inputwidth\n",
        "    #initial conditions for dH, ddH at layer 1 (it vanishes): automatically satisfied by initialization of dHhat and ddH_I, ddH_II arrays\n",
        "\n",
        "    if measureRSTU:\n",
        "      ddH_I = torch.zeros(width,width,width,width) #can compute ddNTK means on the fly so don't need NSample dimension\n",
        "      ddH_II = torch.zeros(width,width,width,width)\n",
        "\n",
        "    #compute H forward equation (8.12) and dH forward equation (11.24)\n",
        "    for l in range(1,depth-1):\n",
        "      Ws = layerdict_['layer%s' % l].weight\n",
        "      Hhats[sample,l+1] = torch.eye(width)*(lambdab_arr[l+1] + (lambdaWtilde/width)*torch.sum(sigmas[l]**2)) + torch.einsum('aj,bk,j,k,jk->ab',Ws,Ws,sigmaprs[l],sigmaprs[l],Hhats[sample,l])\n",
        "\n",
        "      if measurePQ:\n",
        "      #index labeling for einsum: (i0 i1 i2) = (abc), (k0 k1 k2) = (klm)\n",
        "        dHhats[sample,l+1] = (lambdaWtilde/width)*(torch.einsum('ab,cm,k,k,m,km->abc',torch.eye(width),Ws,sigmaprs[l],sigmas[l],sigmaprs[l],Hhats[sample,l]) +\\\n",
        "                                                  torch.einsum('ac,bl,k,l,k,kl->abc',torch.eye(width),Ws,sigmaprs[l],sigmas[l],sigmaprs[l],Hhats[sample,l])) +\\\n",
        "                          torch.einsum('ak,bl,cm,k,l,m,klm->abc',Ws,Ws,Ws,sigmaprs[l],sigmaprs[l],sigmaprs[l],dHhats[sample,l]) +\\\n",
        "                          torch.einsum('ak,bl,cm,k,l,m,kl,km->abc',Ws,Ws,Ws,sigmapprs[l],sigmaprs[l],sigmaprs[l],Hhats[sample,l],Hhats[sample,l])\n",
        "\n",
        "      if measureRSTU:\n",
        "      #still inside l loop\n",
        "      # width*E[ddH_I] with 2 pairs of indices equal is R\n",
        "      #index labeling for einsum: (i0 i1 i2 i3) = (abcd), (j0 j1 j2 j3) = (jklm), in first 3 terms use delta to eliminate a\n",
        "\n",
        "        deltaterm = (lambdaWtilde/width)*(torch.einsum('ab,cl,dm,k,l,m,k,kl,km->abcd',torch.eye(width),Ws,Ws,sigmas[l],sigmaprs[l],sigmaprs[l],sigmapprs[l],Hhats[sample,l],Hhats[sample,l]) +\\\n",
        "                                        torch.einsum('ab,cl,dm,k,l,m,k,klm->abcd',torch.eye(width),Ws,Ws,sigmas[l],sigmaprs[l],sigmaprs[l],sigmaprs[l],dHhats[sample,l]) +\\\n",
        "                                        torch.einsum('ac,dm,bk,l,m,k,l,lm,lk->abcd',torch.eye(width),Ws,Ws,sigmas[l],sigmaprs[l],sigmaprs[l],sigmapprs[l],Hhats[sample,l],Hhats[sample,l]) +\\\n",
        "                                        torch.einsum('ac,dm,bk,l,m,k,l,lmk->abcd',torch.eye(width),Ws,Ws,sigmas[l],sigmaprs[l],sigmaprs[l],sigmaprs[l],dHhats[sample,l]) +\\\n",
        "                                        torch.einsum('ad,bk,cl,m,k,l,m,mk,ml->abcd',torch.eye(width),Ws,Ws,sigmas[l],sigmaprs[l],sigmaprs[l],sigmapprs[l],Hhats[sample,l],Hhats[sample,l]) +\\\n",
        "                                        torch.einsum('ad,bk,cl,m,k,l,m,mkl->abcd',torch.eye(width),Ws,Ws,sigmas[l],sigmaprs[l],sigmaprs[l],sigmaprs[l],dHhats[sample,l]))\n",
        "\n",
        "        ddHterm = torch.einsum('aj,bk,cl,dm,k,l,m,j,jklm->abcd',Ws,Ws,Ws,Ws,sigmaprs[l],sigmaprs[l],sigmaprs[l],sigmaprs[l],ddH_I) +\\\n",
        "                  torch.einsum('aj,bk,cl,dm,k,l,m,j,jkl,jm->abcd',Ws,Ws,Ws,Ws,sigmaprs[l],sigmaprs[l],sigmaprs[l],sigmapprs[l],dHhats[sample,l],Hhats[sample,l]) +\\\n",
        "                  torch.einsum('aj,bk,cl,dm,k,l,m,j,jlm,jk->abcd',Ws,Ws,Ws,Ws,sigmaprs[l],sigmaprs[l],sigmaprs[l],sigmapprs[l],dHhats[sample,l],Hhats[sample,l]) +\\\n",
        "                  torch.einsum('aj,bk,cl,dm,k,l,m,j,jmk,jl->abcd',Ws,Ws,Ws,Ws,sigmaprs[l],sigmaprs[l],sigmaprs[l],sigmapprs[l],dHhats[sample,l],Hhats[sample,l]) +\\\n",
        "                  torch.einsum('aj,bk,cl,dm,k,l,m,j,jk,jl,jm->abcd',Ws,Ws,Ws,Ws,sigmaprs[l],sigmaprs[l],sigmaprs[l],sigma3prs[l],Hhats[sample,l],Hhats[sample,l],Hhats[sample,l])\n",
        "        ddH_I = deltaterm + ddHterm #this is now ddH_I at layer l+1\n",
        "\n",
        "        #now compute expectations\n",
        "        Rmeas1[l+1] += (1/NSample)*width/(width*(width-1)/2)*sum(ddH_I[i[0],i[0],i[1],i[1]] for i in combinations(range(width),2)).detach().numpy()\n",
        "  #      Rmeas2[l+1] += (1/NSample)*width/(width*(width-1)/2)*sum(ddH_I[i[0],i[1],i[0],i[1]] for i in combinations(range(width),2)).detach().numpy() #only need these to check\n",
        "  #      Rmeas3[l+1] += (1/NSample)*width/(width*(width-1)/2)*sum(ddH_I[i[0],i[1],i[1],i[0]] for i in combinations(range(width),2)).detach().numpy()  #only need these to check\n",
        "\n",
        "      #index labeling for einsum: (i1 i2 i3 i4) = (abcd), (j1 j2 j3 j4) = (jklm)\n",
        "        ddH_II = ((lambdaWtilde/width)**2)*torch.einsum('ac,bd,j,k,j,k,jk->abcd',torch.eye(width),torch.eye(width),sigmaprs[l],sigmaprs[l],sigmas[l],sigmas[l],Hhats[sample,l]) +\\\n",
        "                (lambdaWtilde/width)*(torch.einsum('ab,jk,cl,dm,j,k,l,m,jl,km->abcd',torch.eye(width),torch.eye(width),Ws,Ws,sigmaprs[l],sigmaprs[l],sigmaprs[l],sigmaprs[l],Hhats[sample,l],Hhats[sample,l]) +\\\n",
        "                                      torch.einsum('ac,jl,bk,dm,l,m,j,k,kj,km->abcd',torch.eye(width),torch.eye(width),Ws,Ws,sigmas[l],sigmaprs[l],sigmaprs[l],sigmapprs[l],Hhats[sample,l],Hhats[sample,l]) +\\\n",
        "                                      torch.einsum('ac,jl,bk,dm,l,m,j,k,kjm->abcd',torch.eye(width),torch.eye(width),Ws,Ws,sigmas[l],sigmaprs[l],sigmaprs[l],sigmaprs[l],dHhats[sample,l]) +\\\n",
        "                                      torch.einsum('bd,km,aj,cl,m,l,k,j,jk,jl->abcd',torch.eye(width),torch.eye(width),Ws,Ws,sigmas[l],sigmaprs[l],sigmaprs[l],sigmapprs[l],Hhats[sample,l],Hhats[sample,l]) +\\\n",
        "                                      torch.einsum('bd,km,aj,cl,m,l,k,j,jkl->abcd',torch.eye(width),torch.eye(width),Ws,Ws,sigmas[l],sigmaprs[l],sigmaprs[l],sigmaprs[l],dHhats[sample,l])) +\\\n",
        "                torch.einsum('aj,bk,cl,dm,l,m,j,k,jklm->abcd',Ws,Ws,Ws,Ws,sigmaprs[l],sigmaprs[l],sigmaprs[l],sigmaprs[l],ddH_II) +\\\n",
        "                torch.einsum('aj,bk,cl,dm,l,m,j,k,jk,jl,km->abcd',Ws,Ws,Ws,Ws,sigmaprs[l],sigmaprs[l],sigmapprs[l],sigmapprs[l],Hhats[sample,l],Hhats[sample,l],Hhats[sample,l]) +\\\n",
        "                torch.einsum('aj,bk,cl,dm,l,m,j,k,km,jkl->abcd',Ws,Ws,Ws,Ws,sigmaprs[l],sigmaprs[l],sigmaprs[l],sigmapprs[l],Hhats[sample,l],dHhats[sample,l]) +\\\n",
        "                torch.einsum('aj,bk,cl,dm,l,m,k,j,jl,kjm->abcd',Ws,Ws,Ws,Ws,sigmaprs[l],sigmaprs[l],sigmaprs[l],sigmapprs[l],Hhats[sample,l],dHhats[sample,l])\n",
        "      #now compute expectations\n",
        "        Smeas[l+1] += (1/NSample)*width/(width*(width-1)/2)*sum(ddH_II[i[0],i[0],i[1],i[1]] for i in combinations(range(width),2)).detach().numpy()\n",
        "        Tmeas[l+1] += (1/NSample)*width/(width*(width-1)/2)*sum(ddH_II[i[0],i[1],i[0],i[1]] for i in combinations(range(width),2)).detach().numpy()\n",
        "        Umeas[l+1] += (1/NSample)*width/(width*(width-1)/2)*sum(ddH_II[i[0],i[1],i[1],i[0]] for i in combinations(range(width),2)).detach().numpy()\n",
        "\n",
        "  #  del mynet\n",
        "    if measureRSTU:\n",
        "      del deltaterm\n",
        "      del ddHterm\n",
        "      del ddH_I\n",
        "      del ddH_II\n",
        "      gc.collect()\n",
        "\n",
        "  if measurePQ:\n",
        "    if measureRSTU:\n",
        "      RSTUDict={'R': Rmeas, 'S': Smeas, 'T': Tmeas, 'U': Umeas}\n",
        "      return zs, Hhats, dHhats, RSTUDict\n",
        "    else:\n",
        "      return zs, Hhats, dHhats\n",
        "  else:\n",
        "    return zs, Hhats\n",
        "\n"
      ]
    },
    {
      "cell_type": "markdown",
      "metadata": {
        "id": "LgYqtO6i7z-7"
      },
      "source": [
        "Various testing things below"
      ]
    },
    {
      "cell_type": "markdown",
      "metadata": {
        "id": "E_sj0wYZMIXD"
      },
      "source": [
        "# Tests with network initialized to specific value"
      ]
    },
    {
      "cell_type": "code",
      "execution_count": null,
      "metadata": {
        "colab": {
          "base_uri": "https://localhost:8080/"
        },
        "id": "2OAdaTafOKHf",
        "outputId": "c1e5b3ff-7708-40be-fee9-535aa8378a1c"
      },
      "outputs": [
        {
          "name": "stdout",
          "output_type": "stream",
          "text": [
            "0\n",
            "1\n",
            "2\n",
            "3\n",
            "4\n",
            "5\n"
          ]
        }
      ],
      "source": [
        "mynet=MLP(activation=nn.ReLU(),d=10,n=10,nL=10,L=5,cw=2)\n",
        "for i, fc in enumerate(mynet.fcs): print(i)"
      ]
    },
    {
      "cell_type": "code",
      "execution_count": null,
      "metadata": {
        "colab": {
          "base_uri": "https://localhost:8080/"
        },
        "id": "NIltY5EfN6sJ",
        "outputId": "f6287837-c97d-4907-f282-91266f56da69"
      },
      "outputs": [
        {
          "name": "stdout",
          "output_type": "stream",
          "text": [
            "torch.Size([30, 30])\n"
          ]
        }
      ],
      "source": [
        "mybiases = [torch.zeros(30) for _ in range(6)]\n",
        "myweights = [torch.ones((30,30)) for _ in range(6)]\n",
        "mynet=MLP(activation=nn.ReLU(),d=10,n=10,nL=10,L=5,cw=2,weightinit='custom', custombiases = mybiases, customweights = myweights)\n",
        "\n",
        "for i, fc in enumerate(mynet.fcs):\n",
        "  if i == 1:\n",
        "    print(fc.weight.shape)"
      ]
    },
    {
      "cell_type": "code",
      "execution_count": null,
      "metadata": {
        "id": "AKCfFVXTPkEH"
      },
      "outputs": [],
      "source": [
        "HannahWeights0 = np.array([[[-0.10511495,  0.2731756 ,  0.16313358, -0.20853649,\n",
        "          0.29507026,  0.3284962 , -0.16663392,  0.02228089,\n",
        "          0.05395906, -0.01432054],\n",
        "        [ 0.03320023,  0.23438993, -0.45054153,  0.02837742,\n",
        "          0.3046813 ,  0.2807762 , -0.07241964, -0.11109789,\n",
        "          0.35185316, -0.25289047],\n",
        "        [-0.15982842,  0.18784158,  0.6966447 , -0.19391881,\n",
        "          0.2516027 , -0.02459229,  0.2527585 ,  0.41359594,\n",
        "          0.19657248, -0.20072877],\n",
        "        [-0.13587359, -0.05853851, -0.11978576,  0.11882971,\n",
        "         -0.14772382, -0.40896067,  0.10096776,  0.7581863 ,\n",
        "          0.20698468, -0.11152217],\n",
        "        [ 0.01973841,  0.24538559,  0.15582913,  0.57207775,\n",
        "         -0.45452693,  0.2678249 , -0.19784786,  0.48706374,\n",
        "          0.29586607, -0.24989915],\n",
        "        [-0.22451393,  0.4592819 ,  0.46478486, -0.20996508,\n",
        "         -0.10575095, -0.29155612,  0.08631505, -0.01303038,\n",
        "          0.36158898, -0.01306659],\n",
        "        [ 0.34605289, -0.24182425, -0.12569313, -0.13674274,\n",
        "          0.30896074,  0.3045286 ,  0.10840249, -0.30866796,\n",
        "         -0.12946379,  0.07322646],\n",
        "        [ 0.7083253 ,  0.2941746 ,  0.31492338,  0.265813  ,\n",
        "         -0.11820043,  0.21453977, -0.6059211 , -0.19761051,\n",
        "         -0.23001485,  0.1846916 ],\n",
        "        [ 0.03471178,  0.5701528 ,  0.23166889, -0.06504353,\n",
        "         -0.0613872 ,  0.6145765 , -0.08700365,  0.29470387,\n",
        "         -0.12861037,  0.27897918],\n",
        "        [ 0.03237559, -0.44294575, -0.46736407, -0.04176963,\n",
        "         -0.42519185, -0.6656779 , -0.08524457, -0.13524659,\n",
        "          0.07830801,  0.03334095]],\n",
        "\n",
        "       [[ 0.25223422, -0.36875412,  0.27879426,  0.06555589,\n",
        "         -0.4879182 , -0.32412294, -0.366641  ,  0.27655655,\n",
        "          0.37798288, -0.02787758],\n",
        "        [ 0.22379495,  0.11905142,  0.30282798,  0.19826649,\n",
        "         -0.351624  , -0.2027192 , -0.02901677,  0.04551022,\n",
        "         -0.02655784,  0.04995441],\n",
        "        [-0.19782004, -0.13707542, -0.13645947, -0.3166789 ,\n",
        "         -0.8092719 ,  0.13999681,  0.15312639,  0.44201273,\n",
        "          0.47540724,  0.26158828],\n",
        "        [ 0.36147696,  0.39800674,  0.16571729,  0.376874  ,\n",
        "         -0.56942934, -0.14302021, -0.48985127,  0.10347954,\n",
        "         -0.3280575 , -0.08517969],\n",
        "        [-0.357293  , -0.38672677,  0.04437907,  0.2445966 ,\n",
        "         -0.25434163, -0.21144442,  0.38893428,  0.20343634,\n",
        "         -0.20231195, -0.11317167],\n",
        "        [ 0.22689599,  0.18886462, -0.06605589,  0.07636483,\n",
        "         -0.05886213, -0.14776812,  0.25858048, -0.39303562,\n",
        "         -0.44478676,  0.22093418],\n",
        "        [ 0.24205688, -0.2162584 , -0.14773907,  0.2000312 ,\n",
        "          0.19129083,  0.20384638,  0.13266008,  0.04888383,\n",
        "         -0.22807337, -0.39893037],\n",
        "        [-0.6288413 ,  0.0442904 , -0.4009296 ,  0.5871881 ,\n",
        "          0.3184394 ,  0.53007233, -0.18720485, -0.5912883 ,\n",
        "         -0.055675  , -0.12108852],\n",
        "        [ 0.14122804,  0.232121  , -0.04846784,  0.0674846 ,\n",
        "         -0.3945577 ,  0.02288637,  0.0483439 , -0.30612308,\n",
        "          0.04521633,  0.02577228],\n",
        "        [-0.21825278,  0.14872625,  0.15101053, -0.55375224,\n",
        "          0.72758   ,  0.27440265, -0.3349091 ,  0.05306192,\n",
        "          0.03865828, -0.35710686]],\n",
        "\n",
        "       [[ 0.06030054,  0.05577037, -0.19060336, -0.63789624,\n",
        "          0.22287087, -0.11463532, -0.00401992,  0.01725737,\n",
        "          0.05967684,  0.2892703 ],\n",
        "        [ 0.27711546, -0.4849554 ,  0.10166821, -0.40921366,\n",
        "          0.30818555, -0.07633942, -0.02056959,  0.02876144,\n",
        "         -0.5128113 , -0.12553318],\n",
        "        [ 0.3471684 ,  0.36400944,  0.2838301 , -0.09905159,\n",
        "         -0.01920666,  0.05312399, -0.32379153,  0.0349914 ,\n",
        "         -0.35134047,  0.02207016],\n",
        "        [ 0.4317887 , -0.18177283, -0.14047673,  0.30301365,\n",
        "         -0.5644622 ,  0.56991136, -0.02238466, -0.646386  ,\n",
        "          0.03414813,  0.0033076 ],\n",
        "        [ 0.39889762, -0.389368  ,  0.10612588, -0.04938071,\n",
        "          0.14328152, -0.36029607,  0.33400092,  0.04931294,\n",
        "         -0.22491273,  0.2203649 ],\n",
        "        [-0.3489433 ,  0.07550818,  0.37694514,  0.24784483,\n",
        "          0.12188232, -0.00142459,  0.42119676, -0.45958614,\n",
        "         -0.25677162,  0.09712364],\n",
        "        [ 0.17570004,  0.41393736,  0.45463264, -0.41117147,\n",
        "          0.4127558 ,  0.10606068,  0.5005839 ,  0.3741471 ,\n",
        "          0.1527385 ,  0.1683014 ],\n",
        "        [-0.47901857,  0.1096984 , -0.30894276,  0.037101  ,\n",
        "         -0.28004524, -0.384118  , -0.03433898, -0.4621916 ,\n",
        "          0.03222803,  0.26429686],\n",
        "        [ 0.30146566, -0.1948367 ,  0.7041734 ,  0.33163965,\n",
        "          0.24992827, -0.03112125,  0.05038082,  0.10080177,\n",
        "         -0.5488839 , -0.13596989],\n",
        "        [-0.3415829 ,  0.15183167,  0.23140836, -0.40850875,\n",
        "         -0.3423185 , -0.14183976,  0.07552311,  0.32838306,\n",
        "          0.32239953, -0.04764025]],\n",
        "\n",
        "       [[ 0.08770594,  0.07024522, -0.22339031,  0.42030904,\n",
        "          0.2720374 , -0.49374342,  0.08867216,  0.4472019 ,\n",
        "         -0.04662995, -0.18836176],\n",
        "        [-0.0925663 , -0.01516291, -0.5539904 , -0.01320591,\n",
        "         -0.03304632,  0.346112  ,  0.47358382,  0.07565016,\n",
        "          0.36026496,  0.17582157],\n",
        "        [ 0.28767315,  0.34657207, -0.06846831,  0.6512522 ,\n",
        "         -0.34851143, -0.5357154 , -0.5260077 , -0.29695004,\n",
        "         -0.03837488, -0.5540763 ],\n",
        "        [ 0.2445664 , -0.1566674 , -0.34479782, -0.02762346,\n",
        "         -0.18097672, -0.49263278, -0.54588985, -0.03989764,\n",
        "         -0.07561245,  0.10671444],\n",
        "        [ 0.11113348,  1.1057787 ,  0.20267002, -0.21735585,\n",
        "         -0.44212762,  0.17751828, -0.13342346, -0.07945013,\n",
        "         -0.30977094,  0.0755721 ],\n",
        "        [ 0.12866847,  0.18431   , -0.03198522,  0.24327472,\n",
        "         -0.44005802, -0.5214999 , -0.6957018 , -0.2857864 ,\n",
        "         -0.3317453 , -0.08671753],\n",
        "        [-0.13568532,  0.22551987, -0.5683137 ,  0.3742571 ,\n",
        "         -0.044749  , -0.18123728, -0.18204492,  0.04989436,\n",
        "         -0.24903513,  0.05536607],\n",
        "        [-0.1639678 , -0.3935764 , -0.36254907,  0.33637857,\n",
        "         -0.29477262, -0.03725522,  0.05685831, -0.0836356 ,\n",
        "          0.27009475,  0.0200796 ],\n",
        "        [-0.31221586, -0.6424678 , -0.47718772, -0.07193278,\n",
        "          0.2622277 ,  0.09181307, -0.20054252, -0.10025508,\n",
        "         -0.52103424,  0.23049764],\n",
        "        [-0.1444693 , -0.3518068 ,  0.03052701, -0.22362706,\n",
        "          0.16956957,  0.31434458,  0.57791054, -0.02526635,\n",
        "         -0.19918366,  0.6409524 ]]])\n",
        "\n",
        "HannahWeights1 = np.array([[[ 1.48679271e-01, -3.64224203e-02,  3.36979479e-01,\n",
        "          8.95887837e-02, -1.91782013e-01,  3.46941561e-01,\n",
        "         -1.98722035e-01,  2.09092528e-01, -1.11984901e-01,\n",
        "         -1.89233452e-01],\n",
        "        [ 7.69881681e-02,  4.63042825e-01,  8.65032375e-02,\n",
        "         -4.79488485e-02, -7.04127103e-02,  5.73741719e-02,\n",
        "          2.43325345e-02, -3.24315995e-01, -2.81872332e-01,\n",
        "         -3.64643186e-01],\n",
        "        [ 1.77302435e-01,  4.42029685e-02,  6.17626682e-02,\n",
        "         -1.34598330e-01, -1.69532329e-01, -2.82736778e-01,\n",
        "         -5.07592969e-02,  3.43190670e-01,  4.55482230e-02,\n",
        "          3.46413195e-01],\n",
        "        [ 1.29725352e-01, -2.22389579e-01,  4.25511487e-02,\n",
        "          7.57262930e-02, -5.19696474e-01, -2.61415243e-01,\n",
        "         -1.60858318e-01, -2.59968847e-01, -1.94386497e-01,\n",
        "         -3.76062244e-01],\n",
        "        [ 2.09796242e-02,  8.93977582e-02, -2.35552683e-01,\n",
        "         -3.40593345e-02,  1.45043716e-01,  1.41032797e-03,\n",
        "         -1.44956425e-01,  1.65554181e-01,  1.93036333e-01,\n",
        "         -4.61456180e-01],\n",
        "        [-4.56070334e-01, -1.45721972e-01,  3.12066674e-01,\n",
        "          2.44494721e-01,  2.81341732e-01,  2.46548638e-01,\n",
        "          6.01541281e-01, -6.95505142e-01, -2.08603516e-01,\n",
        "          5.65003633e-01],\n",
        "        [-3.06392401e-01,  5.94993532e-01,  1.73599526e-01,\n",
        "         -8.89321566e-02, -3.57588053e-01, -4.67413753e-01,\n",
        "          3.25164884e-01,  2.05874860e-01, -1.35577202e-01,\n",
        "          1.15618758e-01],\n",
        "        [ 8.09913427e-02,  9.63557959e-02, -1.77522272e-01,\n",
        "          2.19206318e-01,  1.84164971e-01, -4.15901035e-01,\n",
        "          1.49657786e-01, -9.62380245e-02,  1.22314848e-01,\n",
        "          5.62524557e-01],\n",
        "        [ 4.99787718e-01,  1.27177149e-01, -6.21755011e-02,\n",
        "          2.85577141e-02,  6.22093081e-01,  6.88582361e-01,\n",
        "          3.87675434e-01, -1.17584225e-02,  3.31527479e-02,\n",
        "          6.23720661e-02],\n",
        "        [-1.16767950e-01, -6.36070609e-01, -5.75419605e-01,\n",
        "          5.60686350e-01,  2.21956417e-01, -2.93342620e-01,\n",
        "          2.00210605e-02, -5.95761538e-01, -7.17048764e-01,\n",
        "          2.36496910e-01]],\n",
        "\n",
        "       [[-2.23182186e-01,  3.62028241e-01,  3.79269779e-01,\n",
        "         -1.79734334e-01,  3.71607602e-01,  2.28365064e-01,\n",
        "         -1.84628367e-01,  5.40792346e-01,  2.77567785e-02,\n",
        "          1.14569679e-01],\n",
        "        [-1.22958392e-01,  5.98047003e-02, -4.15168792e-01,\n",
        "         -2.93682497e-02, -3.22839916e-01,  1.21669643e-01,\n",
        "         -1.18642695e-01,  3.06634000e-03,  4.08791691e-01,\n",
        "         -2.85440832e-01],\n",
        "        [-4.20209736e-01,  4.34167802e-01,  7.14896768e-02,\n",
        "          7.52717018e-01,  2.43204728e-01, -5.55859625e-01,\n",
        "          1.25258826e-02,  9.84044015e-01,  3.81857723e-01,\n",
        "          1.28016025e-01],\n",
        "        [-6.16592646e-01,  4.87263560e-01, -2.86262214e-01,\n",
        "         -3.47447038e-01, -2.68280119e-01, -4.27762046e-02,\n",
        "          2.48965532e-01, -8.65766704e-02,  4.09743637e-01,\n",
        "         -2.67952055e-01],\n",
        "        [-4.32805330e-01,  5.10312021e-01,  3.65920335e-01,\n",
        "         -1.32663071e-01, -3.34405825e-02, -1.12491036e-02,\n",
        "          8.07280838e-03,  1.54567704e-01, -3.97907615e-01,\n",
        "          3.04640979e-01],\n",
        "        [-1.52550116e-01,  5.47359049e-01,  2.41651222e-01,\n",
        "         -1.75821051e-01, -3.97594184e-01, -3.71220082e-01,\n",
        "         -1.00609727e-01,  3.49945091e-02,  1.70219153e-01,\n",
        "         -9.92537513e-02],\n",
        "        [-1.70581147e-01, -4.20867890e-01, -4.37673926e-02,\n",
        "         -4.31219518e-01,  1.24796294e-01, -3.88213813e-01,\n",
        "         -3.31943691e-01,  4.70432281e-01,  2.36245543e-01,\n",
        "          5.43365836e-01],\n",
        "        [-3.21572244e-01, -8.88303220e-02,  1.66901678e-01,\n",
        "          1.63511381e-01,  3.25653166e-01,  3.42486411e-01,\n",
        "         -4.09591079e-01, -6.77305639e-01,  2.81461507e-01,\n",
        "          6.70868009e-02],\n",
        "        [-2.15983078e-01,  1.28974184e-01, -3.64690691e-01,\n",
        "         -1.58403277e-01, -8.58767796e-03,  7.85657391e-02,\n",
        "          9.44000930e-02, -7.67859876e-01, -4.58567180e-02,\n",
        "         -9.84982923e-02],\n",
        "        [ 2.73934286e-02,  7.72025436e-02,  1.10552274e-01,\n",
        "         -1.12798162e-01, -7.84763247e-02, -1.29186973e-01,\n",
        "         -6.84558153e-01, -1.11891739e-01,  9.82927606e-02,\n",
        "         -1.57872245e-01]],\n",
        "\n",
        "       [[ 3.45993817e-01,  1.14892662e-01,  4.90961000e-02,\n",
        "          1.62063807e-01,  3.90696377e-01,  1.78473681e-01,\n",
        "         -2.93802917e-01, -5.61977103e-02,  3.35497975e-01,\n",
        "         -1.05284095e-01],\n",
        "        [ 2.34384120e-01, -3.06940913e-01,  2.16572985e-01,\n",
        "         -1.31416902e-01, -1.45967752e-02, -2.92743146e-01,\n",
        "         -2.25171968e-01,  6.44652486e-01,  3.53000313e-01,\n",
        "         -3.08562696e-01],\n",
        "        [ 8.30343887e-02, -1.79545075e-01, -6.32914484e-01,\n",
        "         -6.88682318e-01,  1.44149691e-01,  2.79310554e-01,\n",
        "          2.35615999e-01, -2.80449033e-01,  3.97503823e-01,\n",
        "          4.08961266e-01],\n",
        "        [ 3.45616579e-01,  4.98079598e-01, -1.05719976e-01,\n",
        "         -5.06006405e-02, -1.95163205e-01, -1.91967815e-01,\n",
        "          3.00068170e-01, -2.82448769e-01, -4.88839447e-01,\n",
        "         -4.68110770e-01],\n",
        "        [ 1.29214317e-01, -5.04289091e-01,  3.67436260e-01,\n",
        "          1.57276243e-01, -3.01795900e-01,  1.19112767e-02,\n",
        "         -2.42425784e-01,  2.76080668e-01,  1.64770320e-01,\n",
        "          2.64273047e-01],\n",
        "        [ 4.59662169e-01,  2.02046335e-01,  4.44865942e-01,\n",
        "         -2.94527441e-01, -1.17152341e-01,  9.34676901e-02,\n",
        "         -3.51334691e-01,  4.84825760e-01,  1.31410554e-01,\n",
        "         -2.38919184e-01],\n",
        "        [-2.00081870e-01, -6.18656341e-04, -1.14280410e-01,\n",
        "          3.86276186e-01, -1.61807060e-01, -2.89683938e-01,\n",
        "          1.51568716e-02,  2.97610462e-01,  2.52506077e-01,\n",
        "         -4.27870214e-01],\n",
        "        [ 6.54129207e-01, -1.80655614e-01,  4.36898172e-01,\n",
        "         -1.87945947e-01,  3.57408732e-01, -4.59264904e-01,\n",
        "         -2.28349082e-02, -2.00924262e-01, -5.93978524e-01,\n",
        "          1.92772761e-01],\n",
        "        [-9.67286155e-02,  3.66978794e-01, -3.27638164e-02,\n",
        "          5.50877452e-01, -1.12005107e-01,  3.42366397e-02,\n",
        "          3.02897394e-02, -8.37527439e-02, -7.81202391e-02,\n",
        "         -2.44329467e-01],\n",
        "        [ 4.91299659e-01, -9.07758996e-03, -5.00938334e-02,\n",
        "          3.87728512e-01, -2.41983578e-01,  8.80430564e-02,\n",
        "         -2.98540980e-01,  2.68985108e-02, -1.54022112e-01,\n",
        "         -8.38089287e-02]],\n",
        "\n",
        "       [[ 7.71912694e-01,  2.90996939e-01, -2.33471498e-01,\n",
        "         -8.72197226e-02, -1.14148699e-01, -2.55326569e-01,\n",
        "         -3.85582298e-01, -1.08558960e-01,  1.59842893e-01,\n",
        "         -3.77941132e-01],\n",
        "        [-4.30915179e-03,  4.25721914e-01, -1.25884339e-01,\n",
        "          3.66805166e-01, -7.63127267e-01, -1.65600091e-01,\n",
        "          3.43274891e-01, -6.44910783e-02, -1.75824404e-01,\n",
        "         -2.40782201e-01],\n",
        "        [-2.38727495e-01,  1.33929521e-01,  2.77397066e-01,\n",
        "          6.15849733e-01, -6.02507472e-01, -1.15436397e-01,\n",
        "          2.01846510e-01,  3.98995638e-01,  1.74711086e-02,\n",
        "         -1.23013809e-01],\n",
        "        [ 2.69742906e-01, -1.26258984e-01,  2.99439758e-01,\n",
        "          1.21401444e-01,  3.97034109e-01, -2.84989208e-01,\n",
        "         -1.57547623e-01,  3.28247726e-01,  3.03037971e-01,\n",
        "         -4.01510984e-01],\n",
        "        [-8.23715329e-02, -5.53941764e-02, -9.23459232e-02,\n",
        "         -4.89431053e-01,  2.63676289e-02, -3.21753472e-01,\n",
        "         -7.64091462e-02, -3.36594254e-01,  2.75888890e-02,\n",
        "          4.02793884e-01],\n",
        "        [ 2.37775236e-01, -2.06702486e-01,  9.63009372e-02,\n",
        "         -1.11980602e-01,  4.59272414e-02, -4.42508876e-01,\n",
        "          7.21042529e-02,  2.46391952e-01,  1.35682493e-01,\n",
        "         -1.19808733e-01],\n",
        "        [-3.23544532e-01,  3.71031731e-01, -4.01947558e-01,\n",
        "         -5.34237921e-01,  4.99029309e-01, -4.14038777e-01,\n",
        "         -6.39245272e-01,  6.59365833e-01,  2.60955960e-01,\n",
        "          3.85533005e-01],\n",
        "        [-1.72001824e-01,  3.11186999e-01, -2.41782293e-01,\n",
        "          3.26003581e-01,  4.87130553e-01,  7.47878373e-01,\n",
        "          5.42394102e-01, -2.19946444e-01,  8.53964090e-02,\n",
        "         -7.44697750e-02],\n",
        "        [ 5.02225310e-02,  2.60571539e-01,  7.61528790e-01,\n",
        "         -5.64140320e-01, -1.13439716e-01,  6.14782155e-01,\n",
        "          3.33698303e-01,  1.68626547e-01, -9.84842032e-02,\n",
        "         -9.21275988e-02],\n",
        "        [-2.68706501e-01,  1.77389756e-01, -1.93038762e-01,\n",
        "         -4.21561867e-01,  4.52586353e-01,  2.13393807e-01,\n",
        "         -3.90750542e-02, -1.03144810e-01,  6.19902089e-02,\n",
        "          1.05878353e-01]]])"
      ]
    },
    {
      "cell_type": "code",
      "execution_count": null,
      "metadata": {
        "id": "VuP-W1Lh717S"
      },
      "outputs": [],
      "source": [
        "#network architecture\n",
        "depth = 3\n",
        "width = 10\n",
        "\n",
        "#set activation here\n",
        "actkey = 'tanh'\n",
        "init = 'custom'\n",
        "\n",
        "#set learning rates here\n",
        "lambdabtilde = 1.0\n",
        "lambdaWtilde = 1.0\n",
        "\n",
        "measurePQ = False\n",
        "measureRSTU = False\n",
        "\n",
        "Cb = 0 #all activations have Cb = 0 for criticality\n",
        "if actkey == 'tanh':\n",
        "  if init =='Gaussian':\n",
        "    CW = 1.0 + 2/(3*width) # NLO tuning\n",
        "  else:\n",
        "    CW = 1.0 # NLO tuning vanishes for orthogonal. Maybe do something clever for mixed inits?\n",
        "  act = torch.tanh\n",
        "elif actkey == 'linear':\n",
        "  CW = 1.0 # NLO tuning vanishes for scale-invariant\n",
        "  act = lambda x: x\n",
        "elif actkey == 'ReLU':\n",
        "  CW = 2.0 # NLO tuning vanishes for scale-invariant\n",
        "  act = nn.ReLU()\n",
        "else:\n",
        "  raise Exception(\"Unsupported choice of activation\")\n",
        "\n",
        "\n",
        "if actkey == 'tanh':  #bias learning rate is an array that takes into account depth rescaling as appropriate\n",
        "  lambdab_arr = lambdabtilde*np.array([1/max(l,1) for l in range(0,depth)])\n",
        "else:\n",
        "  lambdab_arr = lambdabtilde*np.ones(depth)\n",
        "\n",
        "#random input data (single-input)\n",
        "data = torch.ones(width)\n",
        "\n",
        "#kernel fixed point for ReLU\n",
        "Kstar = 2*np.mean(data.detach().numpy()**2)\n",
        "\n",
        "NSample = 2\n",
        "\n",
        "#initialize all arrays for measurement\n",
        "zs=torch.zeros((NSample,depth, width))\n",
        "Ghats=torch.zeros((NSample,depth)) #note Ghat has NO neural indices since by assumption it is diagonal\n",
        "Hhats=torch.zeros((NSample,depth,width,width))\n",
        "if measurePQ:\n",
        "  dHhats = torch.zeros((NSample,depth,width,width,width)) #this gets pretty big, best to keep width fairly small...\n",
        "\n",
        "if measureRSTU:\n",
        "#can compute ddNTK means on the fly so only need to store smaller arrays\n",
        "  Rmeas = torch.zeros(depth)\n",
        "  Smeas = torch.zeros(depth)\n",
        "  Tmeas = torch.zeros(depth)\n",
        "  Umeas = torch.zeros(depth)\n",
        "\n",
        "#auxiliary stuff we don't need to store\n",
        "sigmas=torch.zeros((depth,width))\n",
        "sigmaprs=torch.zeros((depth,width))\n",
        "sigmapprs=torch.zeros((depth,width))\n",
        "\n",
        "for sample in range(NSample):\n",
        "  binits = [torch.zeros(10) for _ in range(depth+1)]\n",
        "  if sample == 0:\n",
        "    WInits = torch.tensor(HannahWeights0,dtype=torch.float32)\n",
        "  if sample == 1:\n",
        "    WInits = torch.tensor(HannahWeights1,dtype=torch.float32)\n",
        "  mynet=MLP(activation=act,d=data.shape[0],n=width,nL=width,L=depth,cw=CW,weightinit=init,custombiases = binits, customweights = WInits)\n",
        "\n",
        "  #initialize dictionary to call network layers\n",
        "  layerdict_ = {}\n",
        "  for i, fc in enumerate(mynet.fcs):\n",
        "    layerdict_['layer%s' % i]  = fc #NOTE! layer fcl contains W^(l+1)\n",
        "  _, zlist = mynet.forward(data)\n",
        "\n",
        "  #get preactivations and activations/derivatives\n",
        "  zs[sample,0] = zlist[0]\n",
        "  for l in range(1,depth):\n",
        "    zs[sample,l] = zlist[l]\n",
        "    sigmas[l] = act(zs[sample,l])\n",
        "    sigmaprs[l] = dact(actkey,zs[sample,l])\n",
        "    sigmapprs[l] = ddact(actkey,zs[sample,l])\n",
        "\n",
        "  #compute metric\n",
        "  Ghats[sample,1] = Cb + (CW/width)*torch.sum(data**2)\n",
        "  for l in range(1,depth-1):\n",
        "    Ghats[sample,l+1] = Cb + (CW/width)*torch.sum(sigmas[l]**2) # (4.70)\n",
        "\n",
        "  #initial conditions for H recursion at layer 1 (8.23)\n",
        "  Hhats[sample,1] = torch.eye(width)*(lambdab_arr[1] + (lambdaWtilde/width)*torch.sum(data**2))\n",
        "\n",
        "  #compute H forward equation (8.12) and dH forward equation (11.24)\n",
        "  for l in range(1,depth-1):\n",
        "    Ws = layerdict_['layer%s' % l].weight\n",
        "    Hhats[sample,l+1] = torch.eye(width)*(lambdab_arr[l] + (lambdaWtilde/width)*torch.sum(sigmas[l]**2)) + torch.einsum('aj,bk,j,k,jk->ab',Ws,Ws,sigmaprs[l],sigmaprs[l],Hhats[sample,l])\n",
        "    if measurePQ:\n",
        "      deltaterm1 = (lambdaWtilde/width)*torch.kron(torch.eye(width),torch.einsum('am,k,k,m,km->a',Ws,sigmaprs[l],sigmas[l],sigmaprs[l],Hhats[sample,l]))\n",
        "      deltaterm1 = deltaterm1.reshape((width,width,width))\n",
        "      deltaterm2 = (lambdaWtilde/width)*torch.kron(torch.eye(width),torch.einsum('bl,k,l,k,kl->b',Ws,sigmaprs[l],sigmaprs[l],sigmas[l],Hhats[sample,l]))\n",
        "      deltaterm2 = torch.swapaxes(deltaterm2.reshape((width,width,width)),1,2)\n",
        "      dHhats[sample,l+1] = torch.einsum('ak,bl,cm,k,l,m,klm->abc',Ws,Ws,Ws,sigmaprs[l],sigmaprs[l],sigmaprs[l],dHhats[sample,l]) + \\\n",
        "                        torch.einsum('ak,bl,cm,k,l,m,kl,km->abc',Ws,Ws,Ws,sigmapprs[l],sigmaprs[l],sigmaprs[l],Hhats[sample,l],Hhats[sample,l]) + deltaterm1 + deltaterm2\n",
        "\n",
        "    if measureRSTU:\n",
        "    #still inside l loop, this is just schematic for now\n",
        "    # width*E[ddH_I] with 2 pairs of indices equal is R\n",
        "    #index labeling for einsum: (i0 i1 i2 i3) = (abcd), (j0 j1 j2 j3) = (jklm), in first 3 terms use delta to eliminate a\n",
        "      delta01 = (lambdaWtilde/width)*torch.kron(torch.eye(width), torch.einsum('cl,dm,k,l,m,k,kl,km->cd',Ws,Ws,sigmas[l],sigmaprs[l],sigmaprs[l],sigmapprs[l],Hhats[sample,l],Hhats[sample,l]) + \\\n",
        "      torch.einsum('cl,dm,k,l,m,k,klm->cd',Ws,Ws,sigmas[l],sigmaprs[l],sigmaprs[l],sigmaprs[l],dHhats[sample,l]))\n",
        "      delta01 = delta01.reshape((width,width,width,width))\n"
      ]
    },
    {
      "cell_type": "code",
      "execution_count": null,
      "metadata": {
        "colab": {
          "base_uri": "https://localhost:8080/"
        },
        "id": "cPjgY4d5fFR2",
        "outputId": "2ac0512b-acf9-40e9-de77-f198fbd9d9f6"
      },
      "outputs": [
        {
          "data": {
            "text/plain": [
              "array([[0.        , 1.        , 0.44673815],\n",
              "       [0.        , 1.        , 0.4028719 ]], dtype=float32)"
            ]
          },
          "execution_count": 124,
          "metadata": {},
          "output_type": "execute_result"
        }
      ],
      "source": [
        "Ghats.detach().numpy()"
      ]
    },
    {
      "cell_type": "code",
      "execution_count": null,
      "metadata": {
        "colab": {
          "base_uri": "https://localhost:8080/"
        },
        "id": "JHnUf3abQXW3",
        "outputId": "55c92c73-3d28-4c23-a4b7-6a68b70f1617"
      },
      "outputs": [
        {
          "data": {
            "text/plain": [
              "array([0.        , 1.        , 0.42480505], dtype=float32)"
            ]
          },
          "execution_count": 123,
          "metadata": {},
          "output_type": "execute_result"
        }
      ],
      "source": [
        "MeasureG(Ghats)"
      ]
    },
    {
      "cell_type": "code",
      "execution_count": null,
      "metadata": {
        "colab": {
          "base_uri": "https://localhost:8080/"
        },
        "id": "sztNwQjpeBtf",
        "outputId": "a61592f5-3079-4f59-fc11-f2d1e8d2783a"
      },
      "outputs": [
        {
          "data": {
            "text/plain": [
              "0.23253278"
            ]
          },
          "execution_count": 125,
          "metadata": {},
          "output_type": "execute_result"
        }
      ],
      "source": [
        "np.mean(.5*((zs[0,2]**2).detach().numpy() + (zs[1,2]**2).detach().numpy()))"
      ]
    },
    {
      "cell_type": "markdown",
      "metadata": {
        "id": "8TbSkp70Vt-K"
      },
      "source": [
        "non-square networks"
      ]
    },
    {
      "cell_type": "code",
      "execution_count": null,
      "metadata": {
        "colab": {
          "base_uri": "https://localhost:8080/"
        },
        "id": "czkMWBprV0lG",
        "outputId": "de4fa1f1-ffd2-4ba6-d9a0-67e9b370c7b1"
      },
      "outputs": [
        {
          "data": {
            "text/plain": [
              "torch.Size([5, 2])"
            ]
          },
          "execution_count": 45,
          "metadata": {},
          "output_type": "execute_result"
        }
      ],
      "source": [
        "mynetrect=MLP(activation=act,d=2,n=5,nL=5,L=1,cw=2)\n",
        "mynetrect.fc0.weight.shape"
      ]
    },
    {
      "cell_type": "markdown",
      "metadata": {
        "id": "F6YG4332Fwq0"
      },
      "source": [
        "test various possibilities for orthogonal inits"
      ]
    },
    {
      "cell_type": "code",
      "execution_count": null,
      "metadata": {
        "id": "dNSEiq5FDvOZ"
      },
      "outputs": [],
      "source": [
        "mynet_orth=MLP(activation=nn.ReLU(),d=5,n=5,nL=5,L=2,cw=1,weightinit='orthogonal')\n",
        "mynet_gaus=MLP(activation=nn.ReLU(),d=5,n=5,nL=5,L=2,cw=1,weightinit='Gaussian')\n",
        "mynet_linear=MLP(activation='linear',d=5,n=5,nL=5,L=2,cw=1,weightinit='orthogonal')"
      ]
    },
    {
      "cell_type": "code",
      "execution_count": null,
      "metadata": {
        "id": "MYiwvyntd9KB"
      },
      "outputs": [],
      "source": [
        "print(mynet_gaus.fc2.weight.dtype)\n",
        "print(mynet_orth.fc2.weight.dtype)"
      ]
    },
    {
      "cell_type": "code",
      "execution_count": null,
      "metadata": {
        "id": "DX6xz0_VeBPs"
      },
      "outputs": [],
      "source": [
        "m = mynet_orth.fc2.weight\n",
        "torch.matmul(m,m.t()) #note that d32 will have 1e-8 errors in orthogonal inits, d64 will be 1e-16 but there seems to be a problem with this data type"
      ]
    },
    {
      "cell_type": "code",
      "execution_count": null,
      "metadata": {
        "id": "MtedQtoYFCy3"
      },
      "outputs": [],
      "source": [
        "#ortho_group naturally has d64 data type\n",
        "x = ortho_group.rvs(5)\n",
        "print(x)\n",
        "print(x.transpose())\n",
        "print(np.matmul(x,x.transpose()))"
      ]
    },
    {
      "cell_type": "code",
      "execution_count": null,
      "metadata": {
        "id": "VTwiwXeCjXg-"
      },
      "outputs": [],
      "source": [
        "mynet_mixed=MLP(activation=nn.ReLU(),d=5,n=5,nL=5,L=2,cw=1,weightinit='mixed0')\n",
        "m0 = mynet_mixed.fc0.weight\n",
        "print(torch.matmul(m0,m0.t()))\n",
        "m1 = mynet_mixed.fc1.weight\n",
        "print(torch.matmul(m1,m1.t()))"
      ]
    },
    {
      "cell_type": "code",
      "execution_count": null,
      "metadata": {
        "id": "0tDFVCImPp8Q"
      },
      "outputs": [],
      "source": []
    }
  ],
  "metadata": {
    "colab": {
      "machine_shape": "hm",
      "provenance": []
    },
    "kernelspec": {
      "display_name": "Python 3",
      "name": "python3"
    },
    "language_info": {
      "name": "python"
    }
  },
  "nbformat": 4,
  "nbformat_minor": 0
}
